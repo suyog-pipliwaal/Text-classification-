{
  "cells": [
    {
      "cell_type": "markdown",
      "metadata": {
        "id": "hExKCzh6doIW"
      },
      "source": [
        "# Comparing Classification Models\n",
        "\n",
        "\n",
        "\n",
        "---\n",
        "\n",
        "\n",
        "\n",
        "\n",
        "\n",
        "\n",
        "\n",
        "\n",
        "\n",
        "\n",
        "\n",
        "\n",
        "\n"
      ]
    },
    {
      "cell_type": "markdown",
      "metadata": {
        "id": "HixoFOoCIJ7V"
      },
      "source": [
        "In this project, we demonstrate how to solve a text classification task using simple \n",
        "feedforward neural network classifier. We will use IMDB Large Movie Review Dataset to train a binary classification model, able to predict whether a review is positive or negative. First, our network takes one-hot word vectors as input, averages them to make one vector and trains a \n",
        "fully-connected layer to predict the output. In the second part, we replace the one-hot vectors with the word embeddings and add a layer to see how much that improves the performance.\n",
        "\n",
        "We are going to use Keras Sequential API in this session. The Sequential API allows you to make models layer-by-layer. But it is not straightforward to define models where layers connect to more than just the previous and next layers. "
      ]
    },
    {
      "cell_type": "code",
      "execution_count": 1,
      "metadata": {
        "colab": {
          "base_uri": "https://localhost:8080/"
        },
        "id": "m8fpBfhBpupy",
        "outputId": "c184eb6a-4dea-4608-9292-19b80604ad20"
      },
      "outputs": [
        {
          "output_type": "stream",
          "name": "stdout",
          "text": [
            "Collecting plot_keras_history\n",
            "  Downloading plot_keras_history-1.1.30.tar.gz (8.6 kB)\n",
            "Requirement already satisfied: matplotlib in /usr/local/lib/python3.7/dist-packages (from plot_keras_history) (3.2.2)\n",
            "Requirement already satisfied: pandas in /usr/local/lib/python3.7/dist-packages (from plot_keras_history) (1.3.5)\n",
            "Requirement already satisfied: scipy in /usr/local/lib/python3.7/dist-packages (from plot_keras_history) (1.4.1)\n",
            "Collecting sanitize_ml_labels>=1.0.28\n",
            "  Downloading sanitize_ml_labels-1.0.30.tar.gz (7.4 kB)\n",
            "Collecting compress_json\n",
            "  Downloading compress_json-1.0.4.tar.gz (4.7 kB)\n",
            "Requirement already satisfied: kiwisolver>=1.0.1 in /usr/local/lib/python3.7/dist-packages (from matplotlib->plot_keras_history) (1.4.0)\n",
            "Requirement already satisfied: numpy>=1.11 in /usr/local/lib/python3.7/dist-packages (from matplotlib->plot_keras_history) (1.21.5)\n",
            "Requirement already satisfied: pyparsing!=2.0.4,!=2.1.2,!=2.1.6,>=2.0.1 in /usr/local/lib/python3.7/dist-packages (from matplotlib->plot_keras_history) (3.0.7)\n",
            "Requirement already satisfied: python-dateutil>=2.1 in /usr/local/lib/python3.7/dist-packages (from matplotlib->plot_keras_history) (2.8.2)\n",
            "Requirement already satisfied: cycler>=0.10 in /usr/local/lib/python3.7/dist-packages (from matplotlib->plot_keras_history) (0.11.0)\n",
            "Requirement already satisfied: typing-extensions in /usr/local/lib/python3.7/dist-packages (from kiwisolver>=1.0.1->matplotlib->plot_keras_history) (3.10.0.2)\n",
            "Requirement already satisfied: six>=1.5 in /usr/local/lib/python3.7/dist-packages (from python-dateutil>=2.1->matplotlib->plot_keras_history) (1.15.0)\n",
            "Requirement already satisfied: pytz>=2017.3 in /usr/local/lib/python3.7/dist-packages (from pandas->plot_keras_history) (2018.9)\n",
            "Building wheels for collected packages: plot-keras-history, sanitize-ml-labels, compress-json\n",
            "  Building wheel for plot-keras-history (setup.py) ... \u001b[?25l\u001b[?25hdone\n",
            "  Created wheel for plot-keras-history: filename=plot_keras_history-1.1.30-py3-none-any.whl size=8794 sha256=2e4cce91cb70a505c8044385ae76acf0ac2845a739131d2877f27e8fe56a1083\n",
            "  Stored in directory: /root/.cache/pip/wheels/b0/60/47/8c5aa37c06be5e97879ec467bc2e6a30b315d95f662c63a503\n",
            "  Building wheel for sanitize-ml-labels (setup.py) ... \u001b[?25l\u001b[?25hdone\n",
            "  Created wheel for sanitize-ml-labels: filename=sanitize_ml_labels-1.0.30-py3-none-any.whl size=7898 sha256=1736bf6449dc62f79a331856635885f1a45153ba27dfa80d348b7267819b6b0f\n",
            "  Stored in directory: /root/.cache/pip/wheels/a3/f2/98/ed93cdaedf25eed75a5c5b38fc716a9e3a886e2e0169e3f182\n",
            "  Building wheel for compress-json (setup.py) ... \u001b[?25l\u001b[?25hdone\n",
            "  Created wheel for compress-json: filename=compress_json-1.0.4-py3-none-any.whl size=4588 sha256=d13e6fb193d5c54f6eaf0e7082290a6a20a69dc7ac3a5d0e5af72c158808028a\n",
            "  Stored in directory: /root/.cache/pip/wheels/1e/ef/1e/5d403c5632b0462471a8d26049d0c138134d0255ec60ce4c14\n",
            "Successfully built plot-keras-history sanitize-ml-labels compress-json\n",
            "Installing collected packages: compress-json, sanitize-ml-labels, plot-keras-history\n",
            "Successfully installed compress-json-1.0.4 plot-keras-history-1.1.30 sanitize-ml-labels-1.0.30\n"
          ]
        }
      ],
      "source": [
        "!pip install plot_keras_history\n",
        "import tensorflow.keras as tk\n",
        "import numpy as np\n",
        "from keras.layers import Lambda, GlobalAveragePooling1D, Dense, Embedding, LSTM\n",
        "from keras import backend as K\n",
        "from keras.models import Sequential\n",
        "import matplotlib.pyplot as plt\n"
      ]
    },
    {
      "cell_type": "markdown",
      "metadata": {
        "id": "cqvPQvgvPv1W"
      },
      "source": [
        "### Downloading data"
      ]
    },
    {
      "cell_type": "markdown",
      "metadata": {
        "id": "EundMtGPpCdf"
      },
      "source": [
        "The dataset we will be using is the IMDB Large Movie Review Dataset, which consists of 50000 labeled movie reviews. These are split into 25,000 reviews for training and 25,000 reviews for testing. The  dataset contains an even number of positive and negative reviews, so randomly guessing yields 50% accuracy. The data is preprocessed. For text classification, it is ususal to limit the size of the vocabulary to stop the dataset from becoming too sparse, creating possible overfitting. We keep the top 10,000 most frequently occurring words in the training data.\n"
      ]
    },
    {
      "cell_type": "code",
      "execution_count": 2,
      "metadata": {
        "colab": {
          "base_uri": "https://localhost:8080/"
        },
        "id": "NyuSzkafqNca",
        "outputId": "203c69ff-bc42-4b4c-de75-d14cdc5e2418"
      },
      "outputs": [
        {
          "output_type": "stream",
          "name": "stdout",
          "text": [
            "Downloading data from https://storage.googleapis.com/tensorflow/tf-keras-datasets/imdb.npz\n",
            "17465344/17464789 [==============================] - 0s 0us/step\n",
            "17473536/17464789 [==============================] - 0s 0us/step\n"
          ]
        }
      ],
      "source": [
        "imdb = tk.datasets.imdb\n",
        "(X_train, y_train), (X_test, y_test) = imdb.load_data(num_words=10000)"
      ]
    },
    {
      "cell_type": "markdown",
      "metadata": {
        "id": "6U4iCV9-rmay"
      },
      "source": [
        "We now can start playing around with the data, let’s first see the length:"
      ]
    },
    {
      "cell_type": "code",
      "execution_count": 3,
      "metadata": {
        "colab": {
          "base_uri": "https://localhost:8080/"
        },
        "id": "h-gjWRAuqg5s",
        "outputId": "ba865b16-4e46-482f-bfca-11d458ed8625"
      },
      "outputs": [
        {
          "output_type": "stream",
          "name": "stdout",
          "text": [
            "Training entries: 25000, labels: 25000\n"
          ]
        }
      ],
      "source": [
        "print(\"Training entries: {}, labels: {}\".format(len(X_train), len(y_train)))"
      ]
    },
    {
      "cell_type": "markdown",
      "metadata": {
        "id": "MTRZrpcyr-4x"
      },
      "source": [
        "The  reviews have been converted to integers and each integer represents a  word in a dictionary. "
      ]
    },
    {
      "cell_type": "code",
      "execution_count": 4,
      "metadata": {
        "colab": {
          "base_uri": "https://localhost:8080/"
        },
        "id": "79Ev72Kgq4XL",
        "outputId": "e094a6c8-63c1-4056-c789-bec96f54fb82"
      },
      "outputs": [
        {
          "output_type": "execute_result",
          "data": {
            "text/plain": [
              "[1, 14, 22, 16, 43, 530, 973, 1622, 1385, 65]"
            ]
          },
          "metadata": {},
          "execution_count": 4
        }
      ],
      "source": [
        " X_train[0][:10]"
      ]
    },
    {
      "cell_type": "markdown",
      "metadata": {
        "id": "Tvuu4KhStqei"
      },
      "source": [
        "We can convert integers back to words by querying a dictionary object that contains the integer to string mapping:"
      ]
    },
    {
      "cell_type": "code",
      "execution_count": 5,
      "metadata": {
        "colab": {
          "base_uri": "https://localhost:8080/"
        },
        "id": "gMCH1OoDrSNR",
        "outputId": "96f9d193-507f-4cc6-b575-9d4fbe74fba9"
      },
      "outputs": [
        {
          "output_type": "stream",
          "name": "stdout",
          "text": [
            "Downloading data from https://storage.googleapis.com/tensorflow/tf-keras-datasets/imdb_word_index.json\n",
            "1646592/1641221 [==============================] - 0s 0us/step\n",
            "1654784/1641221 [==============================] - 0s 0us/step\n"
          ]
        }
      ],
      "source": [
        "word_index = imdb.get_word_index()"
      ]
    },
    {
      "cell_type": "markdown",
      "metadata": {
        "id": "5IreFXgruZot"
      },
      "source": [
        "Index 1 represents the beginning of the sentence and the index 2 is assigned to all unknown tokens. Index 0 will be used for padding."
      ]
    },
    {
      "cell_type": "code",
      "execution_count": 6,
      "metadata": {
        "id": "abIb7Fe5u3GQ"
      },
      "outputs": [],
      "source": [
        "word_index = {k:(v+3) for k,v in word_index.items()}\n",
        "word_index[\"<PAD>\"] = 0\n",
        "word_index[\"<START>\"] = 1\n",
        "word_index[\"<UNK>\"] = 2  \n",
        "word_index[\"<UNUSED>\"] = 3"
      ]
    },
    {
      "cell_type": "markdown",
      "metadata": {
        "id": "9TnnSuspvC5b"
      },
      "source": [
        "To reverse key and values in a dictionary:"
      ]
    },
    {
      "cell_type": "code",
      "execution_count": 7,
      "metadata": {
        "id": "nKOiVVXQu-_I"
      },
      "outputs": [],
      "source": [
        "reverse_word_index = dict([(value, key) for (key, value) in word_index.items()])"
      ]
    },
    {
      "cell_type": "markdown",
      "metadata": {
        "id": "ZmTJEm8xvUvW"
      },
      "source": [
        "To view a word:"
      ]
    },
    {
      "cell_type": "code",
      "execution_count": 8,
      "metadata": {
        "colab": {
          "base_uri": "https://localhost:8080/",
          "height": 35
        },
        "id": "SqN5jgVKvJJZ",
        "outputId": "a8421fea-12bc-4ad4-f09e-accb01b09caa"
      },
      "outputs": [
        {
          "output_type": "execute_result",
          "data": {
            "text/plain": [
              "'you'"
            ],
            "application/vnd.google.colaboratory.intrinsic+json": {
              "type": "string"
            }
          },
          "metadata": {},
          "execution_count": 8
        }
      ],
      "source": [
        "reverse_word_index[25]"
      ]
    },
    {
      "cell_type": "markdown",
      "metadata": {
        "id": "Q6QjrzgVvrYn"
      },
      "source": [
        "And to recreate the whole sentence from our training data we define decode_review:\n"
      ]
    },
    {
      "cell_type": "code",
      "execution_count": 9,
      "metadata": {
        "id": "wvrKeMgxvWlv"
      },
      "outputs": [],
      "source": [
        "def decode_review(text):\n",
        "    return ' '.join([reverse_word_index.get(i, '?') for i in text])"
      ]
    },
    {
      "cell_type": "code",
      "execution_count": 10,
      "metadata": {
        "colab": {
          "base_uri": "https://localhost:8080/",
          "height": 142
        },
        "id": "Sxg4YA_NvdRg",
        "outputId": "75a62288-6d31-41a6-e9ed-c1e9f355dd29"
      },
      "outputs": [
        {
          "output_type": "execute_result",
          "data": {
            "text/plain": [
              "\"<START> french horror cinema has seen something of a revival over the last couple of years with great films such as inside and <UNK> romance <UNK> on to the scene <UNK> <UNK> the revival just slightly but stands head and shoulders over most modern horror titles and is surely one of the best french horror films ever made <UNK> was obviously shot on a low budget but this is made up for in far more ways than one by the originality of the film and this in turn is <UNK> by the excellent writing and acting that ensure the film is a winner the plot focuses on two main ideas prison and black magic the central character is a man named <UNK> sent to prison for fraud he is put in a cell with three others the quietly insane <UNK> body building <UNK> marcus and his retarded boyfriend daisy after a short while in the cell together they stumble upon a hiding place in the wall that contains an old <UNK> after <UNK> part of it they soon realise its magical powers and realise they may be able to use it to break through the prison walls br br black magic is a very interesting topic and i'm actually quite surprised that there aren't more films based on it as there's so much scope for things to do with it it's fair to say that <UNK> makes the best of it's <UNK> as despite it's <UNK> the film never actually feels restrained and manages to flow well throughout director eric <UNK> provides a great atmosphere for the film the fact that most of it takes place inside the central prison cell <UNK> that the film feels very claustrophobic and this immensely benefits the central idea of the prisoners wanting to use magic to break out of the cell it's very easy to get behind them it's often said that the unknown is the thing that really <UNK> people and this film proves that as the director <UNK> that we can never really be sure of exactly what is round the corner and this helps to ensure that <UNK> actually does manage to be quite frightening the film is memorable for a lot of reasons outside the central plot the characters are all very interesting in their own way and the fact that the book itself almost takes on its own character is very well done anyone worried that the film won't deliver by the end won't be disappointed either as the ending both makes sense and manages to be quite horrifying overall <UNK> is a truly great horror film and one of the best of the decade highly recommended viewing\""
            ],
            "application/vnd.google.colaboratory.intrinsic+json": {
              "type": "string"
            }
          },
          "metadata": {},
          "execution_count": 10
        }
      ],
      "source": [
        "decode_review(X_train[10])"
      ]
    },
    {
      "cell_type": "markdown",
      "metadata": {
        "id": "c8gIzXncfaJK"
      },
      "source": [
        "### Creating One-hot word vectors"
      ]
    },
    {
      "cell_type": "markdown",
      "metadata": {
        "id": "B9W4yb3rv_E0"
      },
      "source": [
        "It is  common to use one-hot representation as input in Natural Language Processing tasks. In Keras, the Embedding layer takes an index as an input and convert it to one-hot vector with the length of the vocabulary size. Then multiplies these vectors by a normal weight matrix. But there is no way to only get a one-hot vector as the output of a layer in Keras. To solve this we use Lambda() layer and a function that creates the one-hot layer. "
      ]
    },
    {
      "cell_type": "code",
      "execution_count": 11,
      "metadata": {
        "id": "RPO_pK9zH4C5"
      },
      "outputs": [],
      "source": [
        "def OneHot(input_dim=None, input_length=None):\n",
        "    \n",
        "    if input_dim is None or input_length is None:\n",
        "        raise TypeError(\"input_dim or input_length is not set\")\n",
        "\n",
        "    \n",
        "    def _one_hot(x, num_classes):\n",
        "        return K.one_hot(K.cast(x, 'uint8'),\n",
        "                          num_classes=num_classes)\n",
        "\n",
        "    return Lambda(_one_hot,\n",
        "                  arguments={'num_classes': input_dim},\n",
        "                  input_shape=(input_length,))"
      ]
    },
    {
      "cell_type": "markdown",
      "metadata": {
        "id": "364d3MAw0ez9"
      },
      "source": [
        "input_dim refers to the length of the one-hot vector and input_length refers to the length of the input sequence. Since the input to K.one_hot should be an integer tensor, we cast x to one (Keras passes around float tensors by default).\n",
        "\n"
      ]
    },
    {
      "cell_type": "markdown",
      "metadata": {
        "id": "VHz76GNA2M4r"
      },
      "source": [
        " Each text sequence has in most cases different length of words. Here, we fill sequences with a pad token (0) to fit the size. This special tokens is then masked not to be accounted in averaging, loss calculation etc. We set the maximum length to 256."
      ]
    },
    {
      "cell_type": "markdown",
      "metadata": {
        "id": "9G_o7PsvgSFt"
      },
      "source": [
        "### Preparing input data"
      ]
    },
    {
      "cell_type": "code",
      "execution_count": 12,
      "metadata": {
        "id": "jiFn7sd_wF5j"
      },
      "outputs": [],
      "source": [
        "from tensorflow import keras\n",
        "VOCAB_SIZE = 10000\n",
        "MAX_SEQUENCE_LENGTH = 256\n",
        "\n",
        "X_train_enc = keras.preprocessing.sequence.pad_sequences(X_train,\n",
        "                                                        value=word_index[\"<PAD>\"],\n",
        "                                                        padding='post',\n",
        "                                                        maxlen=256)\n",
        "\n",
        "X_test_enc = keras.preprocessing.sequence.pad_sequences(X_test,\n",
        "                                                       value=word_index[\"<PAD>\"],\n",
        "                                                       padding='post',\n",
        "                                                       maxlen=256)"
      ]
    },
    {
      "cell_type": "markdown",
      "metadata": {
        "id": "kcjFH1wKF_7d"
      },
      "source": [
        "And to view a padded review:"
      ]
    },
    {
      "cell_type": "code",
      "execution_count": 13,
      "metadata": {
        "colab": {
          "base_uri": "https://localhost:8080/"
        },
        "id": "zwH4dcfW_a18",
        "outputId": "1988ee49-06c9-49e9-b2cf-4d0f7308b3ba"
      },
      "outputs": [
        {
          "output_type": "stream",
          "name": "stdout",
          "text": [
            "[   1  194 1153  194 8255   78  228    5    6 1463 4369 5012  134   26\n",
            "    4  715    8  118 1634   14  394   20   13  119  954  189  102    5\n",
            "  207  110 3103   21   14   69  188    8   30   23    7    4  249  126\n",
            "   93    4  114    9 2300 1523    5  647    4  116    9   35 8163    4\n",
            "  229    9  340 1322    4  118    9    4  130 4901   19    4 1002    5\n",
            "   89   29  952   46   37    4  455    9   45   43   38 1543 1905  398\n",
            "    4 1649   26 6853    5  163   11 3215    2    4 1153    9  194  775\n",
            "    7 8255    2  349 2637  148  605    2 8003   15  123  125   68    2\n",
            " 6853   15  349  165 4362   98    5    4  228    9   43    2 1157   15\n",
            "  299  120    5  120  174   11  220  175  136   50    9 4373  228 8255\n",
            "    5    2  656  245 2350    5    4 9837  131  152  491   18    2   32\n",
            " 7464 1212   14    9    6  371   78   22  625   64 1382    9    8  168\n",
            "  145   23    4 1690   15   16    4 1355    5   28    6   52  154  462\n",
            "   33   89   78  285   16  145   95    0    0    0    0    0    0    0\n",
            "    0    0    0    0    0    0    0    0    0    0    0    0    0    0\n",
            "    0    0    0    0    0    0    0    0    0    0    0    0    0    0\n",
            "    0    0    0    0    0    0    0    0    0    0    0    0    0    0\n",
            "    0    0    0    0    0    0    0    0    0    0    0    0    0    0\n",
            "    0    0    0    0]\n",
            "\n",
            "Length:  25000\n"
          ]
        }
      ],
      "source": [
        "print(X_train_enc[1])\n",
        "print('\\nLength: ',len(X_train_enc))"
      ]
    },
    {
      "cell_type": "markdown",
      "metadata": {
        "id": "F1zcxFwNGepA"
      },
      "source": [
        "Now we want to build the neural network model. We  are going to have a hidden layer with 16 hidden units. \n",
        "\n",
        "First, we want to transform each index to an embedded vector and then average all vectors to a single one. It has been showed that unweighted average of word vectors outperforms many complicated networks that model semantic and syntactic compositionality. As an example you can take a look at this: (http://anthology.aclweb.org/P/P15/P15-1162.pdf)\n",
        "\n",
        "To average we need to ignore padded zeros:"
      ]
    },
    {
      "cell_type": "code",
      "execution_count": 14,
      "metadata": {
        "id": "Yi04MLIvJOGZ"
      },
      "outputs": [],
      "source": [
        "class GlobalAveragePooling1DMasked(GlobalAveragePooling1D):\n",
        "    def call(self, x, mask=None):\n",
        "        if mask != None:\n",
        "            return K.sum(x, axis=1) / K.sum(mask, axis=1)\n",
        "        else:\n",
        "            return super().call(x)\n"
      ]
    },
    {
      "cell_type": "markdown",
      "metadata": {
        "id": "whgIIB5ggjna"
      },
      "source": [
        "# Model 1: Neural averaging network using one-hot vectors"
      ]
    },
    {
      "cell_type": "markdown",
      "metadata": {
        "id": "jlOLnlnSJgrU"
      },
      "source": [
        "The first layer is an one-hot layer. The second layer is to compute average on all word vectors in a sentence without considering padding. The  output vector is piped through a fully-connected layer. The last layer is connected with a single output node with the sigmoid activation function. The final value is a float between 0 and 1. \n",
        "The vocabulary count of the movie reviews (10000) is used as the input shape. At the end we visualize the model summary."
      ]
    },
    {
      "cell_type": "code",
      "execution_count": 15,
      "metadata": {
        "colab": {
          "base_uri": "https://localhost:8080/"
        },
        "id": "4VS1zUYgs7sO",
        "outputId": "73215479-91bc-4c2c-9da3-8c7d650aa8c9"
      },
      "outputs": [
        {
          "output_type": "stream",
          "name": "stdout",
          "text": [
            "Model: \"model\"\n",
            "_________________________________________________________________\n",
            " Layer (type)                Output Shape              Param #   \n",
            "=================================================================\n",
            " input_layer (InputLayer)    [(None, 256)]             0         \n",
            "                                                                 \n",
            " lambda_1 (Lambda)           (None, 256, 10000)        0         \n",
            "                                                                 \n",
            " global_average_pooling1d_ma  (None, 10000)            0         \n",
            " sked (GlobalAveragePooling1                                     \n",
            " DMasked)                                                        \n",
            "                                                                 \n",
            " dense (Dense)               (None, 16)                160016    \n",
            "                                                                 \n",
            " dense_1 (Dense)             (None, 1)                 17        \n",
            "                                                                 \n",
            "=================================================================\n",
            "Total params: 160,033\n",
            "Trainable params: 160,033\n",
            "Non-trainable params: 0\n",
            "_________________________________________________________________\n"
          ]
        }
      ],
      "source": [
        "# your code goes here\n",
        "from keras.layers import Input, Dense, Dropout, Lambda\n",
        "from keras.models import Model\n",
        "input = Input(shape=(256,), name=\"input_layer\")\n",
        "lamb = Lambda(function=OneHot(input_dim=VOCAB_SIZE, input_length=MAX_SEQUENCE_LENGTH), output_shape=1000)(input)\n",
        "global_avgerage_pooling1d_mas = GlobalAveragePooling1DMasked()(lamb)\n",
        "hidden_1 = Dense(units=16)(global_avgerage_pooling1d_mas)\n",
        "output = Dense(1, input_shape=(16,), activation='sigmoid')(hidden_1)\n",
        "model = Model(inputs=input, outputs=output)\n",
        "model.summary()"
      ]
    },
    {
      "cell_type": "markdown",
      "metadata": {
        "id": "_Mz96xpCgvTj"
      },
      "source": [
        "### Training the model"
      ]
    },
    {
      "cell_type": "markdown",
      "metadata": {
        "id": "F3HbW_IKLqwT"
      },
      "source": [
        "To compile the model we need a loss function and an optimizer. We use binary_crossentropy loss function which is just a special case of categorical cross entropy. We also use Adam optimizer that can be used instead of the classical stochastic gradient descent procedure to update network weights iterative based in training data. You can read more about it here:\n",
        "(https://arxiv.org/abs/1412.6980v8\n",
        ")\n"
      ]
    },
    {
      "cell_type": "code",
      "execution_count": 16,
      "metadata": {
        "id": "qh1PWTNMxjUw"
      },
      "outputs": [],
      "source": [
        "# your code goes here\n",
        "from tensorflow.keras import optimizers\n",
        "model.compile(loss='binary_crossentropy', optimizer= 'adam', metrics=['accuracy'])\n"
      ]
    },
    {
      "cell_type": "markdown",
      "metadata": {
        "id": "E1jwQQqCN5Ia"
      },
      "source": [
        "When training, we want to check the accuracy of the model on data it hasn't seen before. So we create a validation set:"
      ]
    },
    {
      "cell_type": "code",
      "execution_count": 17,
      "metadata": {
        "id": "f5lAqzQlxjSM"
      },
      "outputs": [],
      "source": [
        "X_val = np.array(X_train_enc[:10000])\n",
        "partial_X_train = np.array(X_train_enc[10000:])\n",
        "\n",
        "y_val = np.array(y_train[:10000])\n",
        "partial_y_train = np.array(y_train[10000:])"
      ]
    },
    {
      "cell_type": "markdown",
      "metadata": {
        "id": "E8Kpo5G3OJEY"
      },
      "source": [
        "Then we start to train the model for 40 epochs in mini-batches of 512 samples and monitor the model's loss and accuracy on the validation set."
      ]
    },
    {
      "cell_type": "code",
      "execution_count": 18,
      "metadata": {
        "colab": {
          "base_uri": "https://localhost:8080/"
        },
        "id": "99_z39KAxjPi",
        "outputId": "f2c1d7fa-67a6-4ddf-ed61-ca2ea064157f"
      },
      "outputs": [
        {
          "output_type": "stream",
          "name": "stdout",
          "text": [
            "Epoch 1/40\n",
            "30/30 [==============================] - 12s 276ms/step - loss: 0.6923 - accuracy: 0.5341 - val_loss: 0.6912 - val_accuracy: 0.6805\n",
            "Epoch 2/40\n",
            "30/30 [==============================] - 8s 266ms/step - loss: 0.6900 - accuracy: 0.6031 - val_loss: 0.6886 - val_accuracy: 0.6473\n",
            "Epoch 3/40\n",
            "30/30 [==============================] - 8s 268ms/step - loss: 0.6869 - accuracy: 0.6662 - val_loss: 0.6856 - val_accuracy: 0.6661\n",
            "Epoch 4/40\n",
            "30/30 [==============================] - 8s 267ms/step - loss: 0.6832 - accuracy: 0.6652 - val_loss: 0.6818 - val_accuracy: 0.6685\n",
            "Epoch 5/40\n",
            "30/30 [==============================] - 8s 268ms/step - loss: 0.6789 - accuracy: 0.6749 - val_loss: 0.6774 - val_accuracy: 0.6672\n",
            "Epoch 6/40\n",
            "30/30 [==============================] - 8s 269ms/step - loss: 0.6740 - accuracy: 0.6784 - val_loss: 0.6724 - val_accuracy: 0.6710\n",
            "Epoch 7/40\n",
            "30/30 [==============================] - 10s 338ms/step - loss: 0.6684 - accuracy: 0.6829 - val_loss: 0.6671 - val_accuracy: 0.6764\n",
            "Epoch 8/40\n",
            "30/30 [==============================] - 8s 269ms/step - loss: 0.6625 - accuracy: 0.6868 - val_loss: 0.6617 - val_accuracy: 0.6795\n",
            "Epoch 9/40\n",
            "30/30 [==============================] - 8s 269ms/step - loss: 0.6564 - accuracy: 0.6871 - val_loss: 0.6555 - val_accuracy: 0.6800\n",
            "Epoch 10/40\n",
            "30/30 [==============================] - 8s 269ms/step - loss: 0.6503 - accuracy: 0.6889 - val_loss: 0.6497 - val_accuracy: 0.6850\n",
            "Epoch 11/40\n",
            "30/30 [==============================] - 8s 268ms/step - loss: 0.6437 - accuracy: 0.6918 - val_loss: 0.6446 - val_accuracy: 0.6832\n",
            "Epoch 12/40\n",
            "30/30 [==============================] - 8s 268ms/step - loss: 0.6375 - accuracy: 0.6912 - val_loss: 0.6380 - val_accuracy: 0.6914\n",
            "Epoch 13/40\n",
            "30/30 [==============================] - 8s 267ms/step - loss: 0.6310 - accuracy: 0.6948 - val_loss: 0.6317 - val_accuracy: 0.6890\n",
            "Epoch 14/40\n",
            "30/30 [==============================] - 8s 268ms/step - loss: 0.6249 - accuracy: 0.6993 - val_loss: 0.6263 - val_accuracy: 0.6977\n",
            "Epoch 15/40\n",
            "30/30 [==============================] - 8s 268ms/step - loss: 0.6186 - accuracy: 0.7015 - val_loss: 0.6203 - val_accuracy: 0.7007\n",
            "Epoch 16/40\n",
            "30/30 [==============================] - 8s 267ms/step - loss: 0.6126 - accuracy: 0.7071 - val_loss: 0.6147 - val_accuracy: 0.7026\n",
            "Epoch 17/40\n",
            "30/30 [==============================] - 8s 267ms/step - loss: 0.6067 - accuracy: 0.7102 - val_loss: 0.6098 - val_accuracy: 0.7065\n",
            "Epoch 18/40\n",
            "30/30 [==============================] - 8s 267ms/step - loss: 0.6011 - accuracy: 0.7135 - val_loss: 0.6042 - val_accuracy: 0.7114\n",
            "Epoch 19/40\n",
            "30/30 [==============================] - 8s 267ms/step - loss: 0.5955 - accuracy: 0.7156 - val_loss: 0.5988 - val_accuracy: 0.7129\n",
            "Epoch 20/40\n",
            "30/30 [==============================] - 8s 267ms/step - loss: 0.5903 - accuracy: 0.7188 - val_loss: 0.5939 - val_accuracy: 0.7115\n",
            "Epoch 21/40\n",
            "30/30 [==============================] - 8s 268ms/step - loss: 0.5852 - accuracy: 0.7235 - val_loss: 0.5895 - val_accuracy: 0.7095\n",
            "Epoch 22/40\n",
            "30/30 [==============================] - 8s 267ms/step - loss: 0.5805 - accuracy: 0.7225 - val_loss: 0.5847 - val_accuracy: 0.7197\n",
            "Epoch 23/40\n",
            "30/30 [==============================] - 8s 267ms/step - loss: 0.5757 - accuracy: 0.7251 - val_loss: 0.5803 - val_accuracy: 0.7210\n",
            "Epoch 24/40\n",
            "30/30 [==============================] - 8s 267ms/step - loss: 0.5714 - accuracy: 0.7285 - val_loss: 0.5762 - val_accuracy: 0.7249\n",
            "Epoch 25/40\n",
            "30/30 [==============================] - 8s 267ms/step - loss: 0.5672 - accuracy: 0.7290 - val_loss: 0.5722 - val_accuracy: 0.7252\n",
            "Epoch 26/40\n",
            "30/30 [==============================] - 8s 268ms/step - loss: 0.5631 - accuracy: 0.7335 - val_loss: 0.5685 - val_accuracy: 0.7275\n",
            "Epoch 27/40\n",
            "30/30 [==============================] - 8s 268ms/step - loss: 0.5594 - accuracy: 0.7341 - val_loss: 0.5649 - val_accuracy: 0.7289\n",
            "Epoch 28/40\n",
            "30/30 [==============================] - 8s 267ms/step - loss: 0.5555 - accuracy: 0.7357 - val_loss: 0.5621 - val_accuracy: 0.7306\n",
            "Epoch 29/40\n",
            "30/30 [==============================] - 8s 267ms/step - loss: 0.5522 - accuracy: 0.7389 - val_loss: 0.5584 - val_accuracy: 0.7337\n",
            "Epoch 30/40\n",
            "30/30 [==============================] - 8s 268ms/step - loss: 0.5490 - accuracy: 0.7406 - val_loss: 0.5553 - val_accuracy: 0.7361\n",
            "Epoch 31/40\n",
            "30/30 [==============================] - 10s 338ms/step - loss: 0.5461 - accuracy: 0.7419 - val_loss: 0.5526 - val_accuracy: 0.7354\n",
            "Epoch 32/40\n",
            "30/30 [==============================] - 8s 269ms/step - loss: 0.5432 - accuracy: 0.7430 - val_loss: 0.5498 - val_accuracy: 0.7378\n",
            "Epoch 33/40\n",
            "30/30 [==============================] - 8s 268ms/step - loss: 0.5407 - accuracy: 0.7448 - val_loss: 0.5474 - val_accuracy: 0.7403\n",
            "Epoch 34/40\n",
            "30/30 [==============================] - 8s 267ms/step - loss: 0.5380 - accuracy: 0.7449 - val_loss: 0.5451 - val_accuracy: 0.7406\n",
            "Epoch 35/40\n",
            "30/30 [==============================] - 8s 268ms/step - loss: 0.5360 - accuracy: 0.7443 - val_loss: 0.5430 - val_accuracy: 0.7419\n",
            "Epoch 36/40\n",
            "30/30 [==============================] - 8s 269ms/step - loss: 0.5336 - accuracy: 0.7477 - val_loss: 0.5409 - val_accuracy: 0.7435\n",
            "Epoch 37/40\n",
            "30/30 [==============================] - 8s 269ms/step - loss: 0.5318 - accuracy: 0.7471 - val_loss: 0.5401 - val_accuracy: 0.7391\n",
            "Epoch 38/40\n",
            "30/30 [==============================] - 8s 268ms/step - loss: 0.5299 - accuracy: 0.7489 - val_loss: 0.5374 - val_accuracy: 0.7453\n",
            "Epoch 39/40\n",
            "30/30 [==============================] - 8s 269ms/step - loss: 0.5278 - accuracy: 0.7493 - val_loss: 0.5361 - val_accuracy: 0.7422\n",
            "Epoch 40/40\n",
            "30/30 [==============================] - 8s 268ms/step - loss: 0.5263 - accuracy: 0.7480 - val_loss: 0.5347 - val_accuracy: 0.7418\n"
          ]
        }
      ],
      "source": [
        "history = model.fit(partial_X_train,\n",
        "                    partial_y_train,\n",
        "                    epochs=40,\n",
        "                    batch_size=512,\n",
        "                    validation_data=(X_val, y_val),\n",
        "                    verbose=1)"
      ]
    },
    {
      "cell_type": "markdown",
      "metadata": {
        "id": "i_9a_rybhG5J"
      },
      "source": [
        "### Evaluating the model"
      ]
    },
    {
      "cell_type": "markdown",
      "metadata": {
        "id": "EYLH8kOgOo9W"
      },
      "source": [
        "To evaulate the model on test data:"
      ]
    },
    {
      "cell_type": "code",
      "execution_count": 19,
      "metadata": {
        "colab": {
          "base_uri": "https://localhost:8080/"
        },
        "id": "CFMt2Q7b3taP",
        "outputId": "58627fe1-8804-4ab6-9a03-656aeedeb36f"
      },
      "outputs": [
        {
          "output_type": "stream",
          "name": "stdout",
          "text": [
            "782/782 [==============================] - 11s 14ms/step - loss: 0.5342 - accuracy: 0.7426\n"
          ]
        }
      ],
      "source": [
        "results = model.evaluate(X_test_enc, y_test)"
      ]
    },
    {
      "cell_type": "code",
      "execution_count": 20,
      "metadata": {
        "id": "9RrKiPHcAmQU",
        "colab": {
          "base_uri": "https://localhost:8080/"
        },
        "outputId": "0d8fc163-e826-4a60-ddd4-0bec015ecff9"
      },
      "outputs": [
        {
          "output_type": "stream",
          "name": "stdout",
          "text": [
            "[0.5341647267341614, 0.7426400184631348]\n"
          ]
        }
      ],
      "source": [
        "print(results)\n",
        "# loss, accuracay "
      ]
    },
    {
      "cell_type": "markdown",
      "metadata": {
        "id": "pW7IpHxMO6qp"
      },
      "source": [
        "Our first model accuracy using one-hot vectors is ~53%\n",
        "\n",
        "\n",
        "\n",
        "\n",
        "\n"
      ]
    },
    {
      "cell_type": "markdown",
      "metadata": {
        "id": "OwZk_yoWhPJB"
      },
      "source": [
        "### Plotting the accuracy graph"
      ]
    },
    {
      "cell_type": "markdown",
      "metadata": {
        "id": "JIDPH1J7PMzN"
      },
      "source": [
        "To plot a graph of accuracy and loss over time we can use Matplotlib:"
      ]
    },
    {
      "cell_type": "code",
      "execution_count": 21,
      "metadata": {
        "id": "LS9k2vvSAqB7",
        "colab": {
          "base_uri": "https://localhost:8080/",
          "height": 385
        },
        "outputId": "d8792b7d-c1cb-424d-8a10-3f32032274c2"
      },
      "outputs": [
        {
          "output_type": "display_data",
          "data": {
            "text/plain": [
              "<Figure size 720x360 with 2 Axes>"
            ],
            "image/png": "[encoded data removed]"
          },
          "metadata": {
            "needs_background": "light"
          }
        }
      ],
      "source": [
        "from plot_keras_history import plot_history\n",
        "import matplotlib.pyplot as plt\n",
        "plot_history(history.history, path=\"model_1.png\")\n",
        "plt.show()"
      ]
    },
    {
      "cell_type": "markdown",
      "metadata": {
        "id": "a7OwOQw4h8RX"
      },
      "source": [
        "# Model 2: Neural averaging network using embedding layer"
      ]
    },
    {
      "cell_type": "markdown",
      "metadata": {
        "id": "l-QzOMO_P4jc"
      },
      "source": [
        "Now instead of one-hot vectors, we want to use embedding. We change our first layer in model1 to an Embedding layer. This layer takes the integer-encoded vocabulary and looks up the embedding vector for each word-index. These vectors are learned as the model trains. The vectors add a dimension to the output array. The resulting dimensions are: (batch, sequence, embedding)."
      ]
    },
    {
      "cell_type": "code",
      "execution_count": null,
      "metadata": {
        "colab": {
          "base_uri": "https://localhost:8080/"
        },
        "id": "MFrCsL-NBFVL",
        "outputId": "1e61a456-ae7b-406d-8455-19e3a2e2a434"
      },
      "outputs": [
        {
          "name": "stdout",
          "output_type": "stream",
          "text": [
            "Model: \"model_1\"\n",
            "_________________________________________________________________\n",
            " Layer (type)                Output Shape              Param #   \n",
            "=================================================================\n",
            " input_layer (InputLayer)    [(None, 256)]             0         \n",
            "                                                                 \n",
            " embedding (Embedding)       (None, 256, 100)          1000000   \n",
            "                                                                 \n",
            " global_average_pooling1d_1   (None, 100)              0         \n",
            " (GlobalAveragePooling1D)                                        \n",
            "                                                                 \n",
            " dense_2 (Dense)             (None, 16)                1616      \n",
            "                                                                 \n",
            " dense_3 (Dense)             (None, 1)                 17        \n",
            "                                                                 \n",
            "=================================================================\n",
            "Total params: 1,001,633\n",
            "Trainable params: 1,001,633\n",
            "Non-trainable params: 0\n",
            "_________________________________________________________________\n",
            "Epoch 1/40\n",
            "30/30 [==============================] - 5s 139ms/step - loss: 0.6879 - accuracy: 0.5947 - val_loss: 0.6787 - val_accuracy: 0.7271\n",
            "Epoch 2/40\n",
            "30/30 [==============================] - 3s 113ms/step - loss: 0.6581 - accuracy: 0.7464 - val_loss: 0.6338 - val_accuracy: 0.7424\n",
            "Epoch 3/40\n",
            "30/30 [==============================] - 3s 110ms/step - loss: 0.5896 - accuracy: 0.7727 - val_loss: 0.5550 - val_accuracy: 0.7797\n",
            "Epoch 4/40\n",
            "30/30 [==============================] - 4s 130ms/step - loss: 0.4974 - accuracy: 0.8122 - val_loss: 0.4698 - val_accuracy: 0.8190\n",
            "Epoch 5/40\n",
            "30/30 [==============================] - 4s 121ms/step - loss: 0.4103 - accuracy: 0.8539 - val_loss: 0.4034 - val_accuracy: 0.8464\n",
            "Epoch 6/40\n",
            "30/30 [==============================] - 4s 129ms/step - loss: 0.3466 - accuracy: 0.8760 - val_loss: 0.3603 - val_accuracy: 0.8602\n",
            "Epoch 7/40\n",
            "30/30 [==============================] - 4s 124ms/step - loss: 0.3008 - accuracy: 0.8928 - val_loss: 0.3332 - val_accuracy: 0.8702\n",
            "Epoch 8/40\n",
            "30/30 [==============================] - 3s 113ms/step - loss: 0.2666 - accuracy: 0.9040 - val_loss: 0.3223 - val_accuracy: 0.8634\n",
            "Epoch 9/40\n",
            "30/30 [==============================] - 4s 128ms/step - loss: 0.2409 - accuracy: 0.9140 - val_loss: 0.3041 - val_accuracy: 0.8799\n",
            "Epoch 10/40\n",
            "30/30 [==============================] - 4s 122ms/step - loss: 0.2170 - accuracy: 0.9237 - val_loss: 0.2994 - val_accuracy: 0.8798\n",
            "Epoch 11/40\n",
            "30/30 [==============================] - 3s 114ms/step - loss: 0.1979 - accuracy: 0.9300 - val_loss: 0.2931 - val_accuracy: 0.8815\n",
            "Epoch 12/40\n",
            "30/30 [==============================] - 3s 109ms/step - loss: 0.1807 - accuracy: 0.9391 - val_loss: 0.2928 - val_accuracy: 0.8808\n",
            "Epoch 13/40\n",
            "30/30 [==============================] - 4s 131ms/step - loss: 0.1652 - accuracy: 0.9459 - val_loss: 0.2899 - val_accuracy: 0.8835\n",
            "Epoch 14/40\n",
            "30/30 [==============================] - 3s 115ms/step - loss: 0.1519 - accuracy: 0.9510 - val_loss: 0.2915 - val_accuracy: 0.8824\n",
            "Epoch 15/40\n",
            "30/30 [==============================] - 4s 121ms/step - loss: 0.1394 - accuracy: 0.9570 - val_loss: 0.2927 - val_accuracy: 0.8859\n",
            "Epoch 16/40\n",
            "30/30 [==============================] - 4s 127ms/step - loss: 0.1282 - accuracy: 0.9621 - val_loss: 0.2964 - val_accuracy: 0.8857\n",
            "Epoch 17/40\n",
            "30/30 [==============================] - 3s 112ms/step - loss: 0.1192 - accuracy: 0.9645 - val_loss: 0.3010 - val_accuracy: 0.8847\n",
            "Epoch 18/40\n",
            "30/30 [==============================] - 3s 111ms/step - loss: 0.1088 - accuracy: 0.9685 - val_loss: 0.3076 - val_accuracy: 0.8831\n",
            "Epoch 19/40\n",
            "30/30 [==============================] - 4s 128ms/step - loss: 0.0999 - accuracy: 0.9729 - val_loss: 0.3153 - val_accuracy: 0.8806\n",
            "Epoch 20/40\n",
            "30/30 [==============================] - 4s 147ms/step - loss: 0.0924 - accuracy: 0.9756 - val_loss: 0.3204 - val_accuracy: 0.8813\n",
            "Epoch 21/40\n",
            "30/30 [==============================] - 4s 120ms/step - loss: 0.0857 - accuracy: 0.9772 - val_loss: 0.3294 - val_accuracy: 0.8811\n",
            "Epoch 22/40\n",
            "30/30 [==============================] - 3s 108ms/step - loss: 0.0788 - accuracy: 0.9806 - val_loss: 0.3387 - val_accuracy: 0.8802\n",
            "Epoch 23/40\n",
            "30/30 [==============================] - 4s 145ms/step - loss: 0.0724 - accuracy: 0.9827 - val_loss: 0.3508 - val_accuracy: 0.8757\n",
            "Epoch 24/40\n",
            "30/30 [==============================] - 4s 120ms/step - loss: 0.0665 - accuracy: 0.9851 - val_loss: 0.3573 - val_accuracy: 0.8778\n",
            "Epoch 25/40\n",
            "30/30 [==============================] - 4s 127ms/step - loss: 0.0612 - accuracy: 0.9872 - val_loss: 0.3695 - val_accuracy: 0.8748\n",
            "Epoch 26/40\n",
            "30/30 [==============================] - 3s 119ms/step - loss: 0.0560 - accuracy: 0.9890 - val_loss: 0.3785 - val_accuracy: 0.8761\n",
            "Epoch 27/40\n",
            "30/30 [==============================] - 4s 118ms/step - loss: 0.0521 - accuracy: 0.9899 - val_loss: 0.3910 - val_accuracy: 0.8743\n",
            "Epoch 28/40\n",
            "30/30 [==============================] - 3s 117ms/step - loss: 0.0477 - accuracy: 0.9913 - val_loss: 0.4013 - val_accuracy: 0.8749\n",
            "Epoch 29/40\n",
            "30/30 [==============================] - 4s 124ms/step - loss: 0.0440 - accuracy: 0.9920 - val_loss: 0.4140 - val_accuracy: 0.8735\n",
            "Epoch 30/40\n",
            "30/30 [==============================] - 4s 125ms/step - loss: 0.0408 - accuracy: 0.9928 - val_loss: 0.4260 - val_accuracy: 0.8722\n",
            "Epoch 31/40\n",
            "30/30 [==============================] - 4s 131ms/step - loss: 0.0371 - accuracy: 0.9944 - val_loss: 0.4398 - val_accuracy: 0.8710\n",
            "Epoch 32/40\n",
            "30/30 [==============================] - 3s 114ms/step - loss: 0.0350 - accuracy: 0.9948 - val_loss: 0.4550 - val_accuracy: 0.8706\n",
            "Epoch 33/40\n",
            "30/30 [==============================] - 4s 123ms/step - loss: 0.0323 - accuracy: 0.9950 - val_loss: 0.4635 - val_accuracy: 0.8694\n",
            "Epoch 34/40\n",
            "30/30 [==============================] - 4s 122ms/step - loss: 0.0303 - accuracy: 0.9957 - val_loss: 0.4772 - val_accuracy: 0.8683\n",
            "Epoch 35/40\n",
            "30/30 [==============================] - 3s 107ms/step - loss: 0.0266 - accuracy: 0.9964 - val_loss: 0.4872 - val_accuracy: 0.8687\n",
            "Epoch 36/40\n",
            "30/30 [==============================] - 4s 121ms/step - loss: 0.0245 - accuracy: 0.9971 - val_loss: 0.5005 - val_accuracy: 0.8674\n",
            "Epoch 37/40\n",
            "30/30 [==============================] - 4s 130ms/step - loss: 0.0224 - accuracy: 0.9978 - val_loss: 0.5125 - val_accuracy: 0.8670\n",
            "Epoch 38/40\n",
            "30/30 [==============================] - 4s 121ms/step - loss: 0.0206 - accuracy: 0.9981 - val_loss: 0.5243 - val_accuracy: 0.8675\n",
            "Epoch 39/40\n",
            "30/30 [==============================] - 4s 131ms/step - loss: 0.0189 - accuracy: 0.9980 - val_loss: 0.5384 - val_accuracy: 0.8656\n",
            "Epoch 40/40\n",
            "30/30 [==============================] - 3s 116ms/step - loss: 0.0177 - accuracy: 0.9983 - val_loss: 0.5499 - val_accuracy: 0.8668\n"
          ]
        }
      ],
      "source": [
        "EMBED_SIZE = 100\n",
        "input = Input(shape=(256,), name=\"input_layer\")\n",
        "embedding = Embedding(input_dim=VOCAB_SIZE, output_dim=EMBED_SIZE, input_length=MAX_SEQUENCE_LENGTH)(input)\n",
        "global_avgerage_pooling1d_mas = GlobalAveragePooling1D()(embedding)\n",
        "hidden_1 = Dense(units=16)(global_avgerage_pooling1d_mas)\n",
        "output = Dense(1, input_shape=(16,), activation='sigmoid')(hidden_1)\n",
        "model2 = Model(inputs=input, outputs=output)\n",
        "model2.summary()\n",
        "model2.compile(loss='binary_crossentropy', optimizer='adam', metrics=['accuracy'])\n",
        "history2 = model2.fit(partial_X_train,\n",
        "                    partial_y_train,\n",
        "                    epochs=40,\n",
        "                    batch_size=512,\n",
        "                    validation_data=(X_val, y_val),\n",
        "                    verbose=1)"
      ]
    },
    {
      "cell_type": "code",
      "execution_count": null,
      "metadata": {
        "colab": {
          "base_uri": "https://localhost:8080/",
          "height": 168
        },
        "id": "I4zIPJDcTPq3",
        "outputId": "e12295ea-8cec-4ea4-e1be-11b762848990"
      },
      "outputs": [
        {
          "ename": "NameError",
          "evalue": "ignored",
          "output_type": "error",
          "traceback": [
            "\u001b[0;31m---------------------------------------------------------------------------\u001b[0m",
            "\u001b[0;31mNameError\u001b[0m                                 Traceback (most recent call last)",
            "\u001b[0;32m<ipython-input-19-ebef5da803ec>\u001b[0m in \u001b[0;36m<module>\u001b[0;34m()\u001b[0m\n\u001b[0;32m----> 1\u001b[0;31m \u001b[0mresults\u001b[0m \u001b[0;34m=\u001b[0m \u001b[0mmodel2\u001b[0m\u001b[0;34m.\u001b[0m\u001b[0mevaluate\u001b[0m\u001b[0;34m(\u001b[0m\u001b[0mX_test_enc\u001b[0m\u001b[0;34m,\u001b[0m \u001b[0my_test\u001b[0m\u001b[0;34m)\u001b[0m\u001b[0;34m\u001b[0m\u001b[0;34m\u001b[0m\u001b[0m\n\u001b[0m",
            "\u001b[0;31mNameError\u001b[0m: name 'model2' is not defined"
          ]
        }
      ],
      "source": [
        "results = model2.evaluate(X_test_enc, y_test)"
      ]
    },
    {
      "cell_type": "code",
      "execution_count": null,
      "metadata": {
        "id": "waS96edDTRyL"
      },
      "outputs": [],
      "source": [
        "print (results)\n",
        "plot_history(history2.history, path=\"model_2.png\")"
      ]
    },
    {
      "cell_type": "markdown",
      "metadata": {
        "id": "7FBpTc_rXGvQ"
      },
      "source": [
        "The accuracy of model2 is 87%. Using Embedding layer instead of one-hot layer improved the performance."
      ]
    },
    {
      "cell_type": "markdown",
      "metadata": {
        "id": "--020hfG6rN2"
      },
      "source": [
        "# Model 3: Using pre-trained word embeddings"
      ]
    },
    {
      "cell_type": "markdown",
      "metadata": {
        "id": "7GdY2-64YG1B"
      },
      "source": [
        "### Preparing pre-trained word embeddings (GLOVE)"
      ]
    },
    {
      "cell_type": "markdown",
      "metadata": {
        "id": "J4gBeOyi4gkM"
      },
      "source": [
        "The Embedding layer can be used to load a pre-trained word embedding model. We are going to use GloVe embeddings, which you can read about it here (https://nlp.stanford.edu/projects/glove/). GloVe stands for \"Global Vectors for Word Representation\". It's a somewhat popular embedding technique based on factorizing a matrix of word co-occurence statistics. You can download GloVe and we can seed the Keras Embedding layer with weights from the pre-trained embedding for the words in your dataset.\n",
        "First, we need to read GloVe and map words to GloVe:\n"
      ]
    },
    {
      "cell_type": "code",
      "execution_count": null,
      "metadata": {
        "id": "f_PypdqG9Iis"
      },
      "outputs": [],
      "source": [
        "def readGloveFile(gloveFile):\n",
        "    with open(gloveFile, 'r') as f:\n",
        "        wordToGlove = {}  \n",
        "        wordToIndex = {}  \n",
        "        indexToWord = {}  \n",
        "\n",
        "        for line in f:\n",
        "            record = line.strip().split()\n",
        "            token = record[0] \n",
        "            wordToGlove[token] = np.array(record[1:], dtype=np.float64) \n",
        "            \n",
        "        tokens = sorted(wordToGlove.keys())\n",
        "        for idx, tok in enumerate(tokens):\n",
        "            kerasIdx = idx + 1  \n",
        "            wordToIndex[tok] = kerasIdx \n",
        "            indexToWord[kerasIdx] = tok \n",
        "\n",
        "    return wordToIndex, indexToWord, wordToGlove"
      ]
    },
    {
      "cell_type": "markdown",
      "metadata": {
        "id": "ZcIZ3dq59bCh"
      },
      "source": [
        "Now, we create our pre-trained Embedding layer:"
      ]
    },
    {
      "cell_type": "code",
      "execution_count": null,
      "metadata": {
        "id": "gembn7VM3ex8"
      },
      "outputs": [],
      "source": [
        "from keras.initializers import Constant\n",
        "\n",
        "def createPretrainedEmbeddingLayer(wordToGlove, wordToIndex, isTrainable):\n",
        "    vocabLen = len(wordToIndex) + 1  \n",
        "    embDim = next(iter(wordToGlove.values())).shape[0]  \n",
        "   \n",
        "    embeddingMatrix = np.zeros((vocabLen, embDim))  \n",
        "    for word, index in wordToIndex.items():\n",
        "        embeddingMatrix[index, :] = wordToGlove[word] \n",
        "\n",
        "    embeddingLayer = Embedding(vocabLen, embDim, embeddings_initializer=Constant(embeddingMatrix), trainable=isTrainable, name='GloVe_Embeddings')\n",
        "    return embeddingLayer"
      ]
    },
    {
      "cell_type": "code",
      "execution_count": null,
      "metadata": {
        "colab": {
          "base_uri": "https://localhost:8080/"
        },
        "id": "8OC1wuctdFvA",
        "outputId": "0b36820d-e112-44e3-e842-9965d633a5d9"
      },
      "outputs": [
        {
          "name": "stdout",
          "output_type": "stream",
          "text": [
            "--2022-03-10 10:53:01--  http://nlp.stanford.edu/data/glove.6B.zip\n",
            "Resolving nlp.stanford.edu (nlp.stanford.edu)... 171.64.67.140\n",
            "Connecting to nlp.stanford.edu (nlp.stanford.edu)|171.64.67.140|:80... connected.\n",
            "HTTP request sent, awaiting response... 302 Found\n",
            "Location: https://nlp.stanford.edu/data/glove.6B.zip [following]\n",
            "--2022-03-10 10:53:02--  https://nlp.stanford.edu/data/glove.6B.zip\n",
            "Connecting to nlp.stanford.edu (nlp.stanford.edu)|171.64.67.140|:443... connected.\n",
            "HTTP request sent, awaiting response... 301 Moved Permanently\n",
            "Location: http://downloads.cs.stanford.edu/nlp/data/glove.6B.zip [following]\n",
            "--2022-03-10 10:53:02--  http://downloads.cs.stanford.edu/nlp/data/glove.6B.zip\n",
            "Resolving downloads.cs.stanford.edu (downloads.cs.stanford.edu)... 171.64.64.22\n",
            "Connecting to downloads.cs.stanford.edu (downloads.cs.stanford.edu)|171.64.64.22|:80... connected.\n",
            "HTTP request sent, awaiting response... 200 OK\n",
            "Length: 862182613 (822M) [application/zip]\n",
            "Saving to: ‘glove.6B.zip’\n",
            "\n",
            "glove.6B.zip        100%[===================>] 822.24M  5.13MB/s    in 2m 42s  \n",
            "\n",
            "2022-03-10 10:55:44 (5.09 MB/s) - ‘glove.6B.zip’ saved [862182613/862182613]\n",
            "\n",
            "Archive:  /content/glove.6B.zip\n",
            "  inflating: glove.6B.50d.txt        \n",
            "  inflating: glove.6B.100d.txt       \n",
            "  inflating: glove.6B.200d.txt       \n",
            "  inflating: glove.6B.300d.txt       \n"
          ]
        }
      ],
      "source": [
        "!wget http://nlp.stanford.edu/data/glove.6B.zip\n",
        "!unzip '/content/glove.6B.zip'"
      ]
    },
    {
      "cell_type": "markdown",
      "metadata": {
        "id": "HGxciLK4-xOr"
      },
      "source": [
        "We freeze the weights. To create the model: "
      ]
    },
    {
      "cell_type": "code",
      "execution_count": null,
      "metadata": {
        "colab": {
          "base_uri": "https://localhost:8080/"
        },
        "id": "PZCPUM0W_Drc",
        "outputId": "91ebea9a-773c-473e-8948-182bfdd5a89a"
      },
      "outputs": [
        {
          "name": "stdout",
          "output_type": "stream",
          "text": [
            "Size of Embedding:  300\n"
          ]
        }
      ],
      "source": [
        "# wordToIndex,indexToWord,wordToGlove=readGloveFile('/content/glove.6B.50d.txt')\n",
        "# wordToIndex,indexToWord,wordToGlove=readGloveFile('/content/glove.6B.100d.txt')\n",
        "wordToIndex,indexToWord,wordToGlove=readGloveFile('/content/glove.6B.300d.txt')\n",
        "\n",
        "# vocabLen = len(wordToIndex) + 1 \n",
        "\n",
        "EMBED_SIZE = next(iter(wordToGlove.values())).shape[0]\n",
        "print('Size of Embedding: ',EMBED_SIZE)\n",
        "\n",
        "embeddingLayer=createPretrainedEmbeddingLayer(wordToGlove,wordToIndex,isTrainable=False)"
      ]
    },
    {
      "cell_type": "markdown",
      "metadata": {
        "id": "vdZ4nl08vp9A"
      },
      "source": [
        "## Model 3-1: Neural bag of words using pre-trained word embeddings"
      ]
    },
    {
      "cell_type": "markdown",
      "metadata": {
        "id": "2gyCwXFj_R5w"
      },
      "source": [
        "Now we change our model to use GloVe:"
      ]
    },
    {
      "cell_type": "code",
      "execution_count": null,
      "metadata": {
        "colab": {
          "base_uri": "https://localhost:8080/"
        },
        "id": "VICS9rY8C7KH",
        "outputId": "970d7ad9-ac98-4628-fd66-06d55eeedca8"
      },
      "outputs": [
        {
          "name": "stdout",
          "output_type": "stream",
          "text": [
            "Model: \"model_2\"\n",
            "_________________________________________________________________\n",
            " Layer (type)                Output Shape              Param #   \n",
            "=================================================================\n",
            " input_layer (InputLayer)    [(None, 256)]             0         \n",
            "                                                                 \n",
            " GloVe_Embeddings (Embedding  (None, 256, 300)         120000300 \n",
            " )                                                               \n",
            "                                                                 \n",
            " global_average_pooling1d_2   (None, 300)              0         \n",
            " (GlobalAveragePooling1D)                                        \n",
            "                                                                 \n",
            " dense_4 (Dense)             (None, 16)                4816      \n",
            "                                                                 \n",
            " dense_5 (Dense)             (None, 1)                 17        \n",
            "                                                                 \n",
            "=================================================================\n",
            "Total params: 120,005,133\n",
            "Trainable params: 4,833\n",
            "Non-trainable params: 120,000,300\n",
            "_________________________________________________________________\n"
          ]
        }
      ],
      "source": [
        "# Inspect model performance with 1 hidden layer, pre-trained embeddings\n",
        "# your code goes here\n",
        "embedding = embeddingLayer(input)\n",
        "global_avgerage_pooling1d_mas = GlobalAveragePooling1D()(embedding)\n",
        "hidden_layer = Dense(units=16, activation='sigmoid')(global_avgerage_pooling1d_mas)\n",
        "output = Dense(1, activation='sigmoid')(hidden_layer)\n",
        "model3 = Model(inputs=input, outputs=output)\n",
        "model3.summary()\n"
      ]
    },
    {
      "cell_type": "markdown",
      "metadata": {
        "id": "wxJhlT3whoDE"
      },
      "source": [
        "To compare freezing and fine-tuning the pre-train embedding weights, we fine-tune the weights here:"
      ]
    },
    {
      "cell_type": "code",
      "execution_count": null,
      "metadata": {
        "colab": {
          "base_uri": "https://localhost:8080/"
        },
        "id": "3rz8MEm6iHj6",
        "outputId": "16e85cab-3159-45df-96a5-4b6fefca2e61"
      },
      "outputs": [
        {
          "name": "stdout",
          "output_type": "stream",
          "text": [
            "Epoch 1/40\n",
            "30/30 [==============================] - 2s 58ms/step - loss: 0.6953 - accuracy: 0.5096 - val_loss: 0.6920 - val_accuracy: 0.5175\n",
            "Epoch 2/40\n",
            "30/30 [==============================] - 2s 54ms/step - loss: 0.6905 - accuracy: 0.5388 - val_loss: 0.6891 - val_accuracy: 0.5547\n",
            "Epoch 3/40\n",
            "30/30 [==============================] - 2s 54ms/step - loss: 0.6878 - accuracy: 0.5699 - val_loss: 0.6867 - val_accuracy: 0.5766\n",
            "Epoch 4/40\n",
            "30/30 [==============================] - 2s 53ms/step - loss: 0.6855 - accuracy: 0.5807 - val_loss: 0.6845 - val_accuracy: 0.5772\n",
            "Epoch 5/40\n",
            "30/30 [==============================] - 2s 54ms/step - loss: 0.6832 - accuracy: 0.5843 - val_loss: 0.6825 - val_accuracy: 0.5853\n",
            "Epoch 6/40\n",
            "30/30 [==============================] - 2s 53ms/step - loss: 0.6810 - accuracy: 0.5932 - val_loss: 0.6814 - val_accuracy: 0.5818\n",
            "Epoch 7/40\n",
            "30/30 [==============================] - 2s 53ms/step - loss: 0.6789 - accuracy: 0.5933 - val_loss: 0.6788 - val_accuracy: 0.5844\n",
            "Epoch 8/40\n",
            "30/30 [==============================] - 2s 53ms/step - loss: 0.6770 - accuracy: 0.5989 - val_loss: 0.6768 - val_accuracy: 0.5934\n",
            "Epoch 9/40\n",
            "30/30 [==============================] - 2s 60ms/step - loss: 0.6749 - accuracy: 0.5995 - val_loss: 0.6751 - val_accuracy: 0.5975\n",
            "Epoch 10/40\n",
            "30/30 [==============================] - 2s 53ms/step - loss: 0.6729 - accuracy: 0.6016 - val_loss: 0.6734 - val_accuracy: 0.5973\n",
            "Epoch 11/40\n",
            "30/30 [==============================] - 2s 53ms/step - loss: 0.6710 - accuracy: 0.6045 - val_loss: 0.6712 - val_accuracy: 0.5994\n",
            "Epoch 12/40\n",
            "30/30 [==============================] - 2s 53ms/step - loss: 0.6689 - accuracy: 0.6077 - val_loss: 0.6693 - val_accuracy: 0.6021\n",
            "Epoch 13/40\n",
            "30/30 [==============================] - 2s 53ms/step - loss: 0.6670 - accuracy: 0.6112 - val_loss: 0.6676 - val_accuracy: 0.6037\n",
            "Epoch 14/40\n",
            "30/30 [==============================] - 2s 53ms/step - loss: 0.6649 - accuracy: 0.6128 - val_loss: 0.6655 - val_accuracy: 0.6056\n",
            "Epoch 15/40\n",
            "30/30 [==============================] - 2s 54ms/step - loss: 0.6629 - accuracy: 0.6174 - val_loss: 0.6634 - val_accuracy: 0.6109\n",
            "Epoch 16/40\n",
            "30/30 [==============================] - 2s 53ms/step - loss: 0.6607 - accuracy: 0.6223 - val_loss: 0.6616 - val_accuracy: 0.6128\n",
            "Epoch 17/40\n",
            "30/30 [==============================] - 2s 53ms/step - loss: 0.6586 - accuracy: 0.6253 - val_loss: 0.6597 - val_accuracy: 0.6167\n",
            "Epoch 18/40\n",
            "30/30 [==============================] - 2s 53ms/step - loss: 0.6568 - accuracy: 0.6273 - val_loss: 0.6574 - val_accuracy: 0.6213\n",
            "Epoch 19/40\n",
            "30/30 [==============================] - 2s 53ms/step - loss: 0.6543 - accuracy: 0.6327 - val_loss: 0.6552 - val_accuracy: 0.6248\n",
            "Epoch 20/40\n",
            "30/30 [==============================] - 2s 54ms/step - loss: 0.6521 - accuracy: 0.6353 - val_loss: 0.6531 - val_accuracy: 0.6272\n",
            "Epoch 21/40\n",
            "30/30 [==============================] - 2s 53ms/step - loss: 0.6501 - accuracy: 0.6405 - val_loss: 0.6510 - val_accuracy: 0.6303\n",
            "Epoch 22/40\n",
            "30/30 [==============================] - 2s 54ms/step - loss: 0.6478 - accuracy: 0.6402 - val_loss: 0.6489 - val_accuracy: 0.6337\n",
            "Epoch 23/40\n",
            "30/30 [==============================] - 2s 53ms/step - loss: 0.6455 - accuracy: 0.6443 - val_loss: 0.6468 - val_accuracy: 0.6358\n",
            "Epoch 24/40\n",
            "30/30 [==============================] - 2s 53ms/step - loss: 0.6430 - accuracy: 0.6470 - val_loss: 0.6445 - val_accuracy: 0.6402\n",
            "Epoch 25/40\n",
            "30/30 [==============================] - 2s 53ms/step - loss: 0.6411 - accuracy: 0.6501 - val_loss: 0.6424 - val_accuracy: 0.6446\n",
            "Epoch 26/40\n",
            "30/30 [==============================] - 2s 64ms/step - loss: 0.6384 - accuracy: 0.6551 - val_loss: 0.6404 - val_accuracy: 0.6486\n",
            "Epoch 27/40\n",
            "30/30 [==============================] - 2s 58ms/step - loss: 0.6361 - accuracy: 0.6573 - val_loss: 0.6381 - val_accuracy: 0.6487\n",
            "Epoch 28/40\n",
            "30/30 [==============================] - 2s 53ms/step - loss: 0.6339 - accuracy: 0.6594 - val_loss: 0.6359 - val_accuracy: 0.6530\n",
            "Epoch 29/40\n",
            "30/30 [==============================] - 2s 52ms/step - loss: 0.6316 - accuracy: 0.6641 - val_loss: 0.6337 - val_accuracy: 0.6556\n",
            "Epoch 30/40\n",
            "30/30 [==============================] - 2s 52ms/step - loss: 0.6291 - accuracy: 0.6649 - val_loss: 0.6316 - val_accuracy: 0.6595\n",
            "Epoch 31/40\n",
            "30/30 [==============================] - 2s 52ms/step - loss: 0.6267 - accuracy: 0.6688 - val_loss: 0.6295 - val_accuracy: 0.6607\n",
            "Epoch 32/40\n",
            "30/30 [==============================] - 2s 52ms/step - loss: 0.6250 - accuracy: 0.6681 - val_loss: 0.6274 - val_accuracy: 0.6631\n",
            "Epoch 33/40\n",
            "30/30 [==============================] - 2s 52ms/step - loss: 0.6223 - accuracy: 0.6745 - val_loss: 0.6254 - val_accuracy: 0.6649\n",
            "Epoch 34/40\n",
            "30/30 [==============================] - 2s 53ms/step - loss: 0.6200 - accuracy: 0.6747 - val_loss: 0.6235 - val_accuracy: 0.6671\n",
            "Epoch 35/40\n",
            "30/30 [==============================] - 2s 52ms/step - loss: 0.6177 - accuracy: 0.6789 - val_loss: 0.6226 - val_accuracy: 0.6684\n",
            "Epoch 36/40\n",
            "30/30 [==============================] - 2s 52ms/step - loss: 0.6162 - accuracy: 0.6787 - val_loss: 0.6197 - val_accuracy: 0.6706\n",
            "Epoch 37/40\n",
            "30/30 [==============================] - 2s 52ms/step - loss: 0.6143 - accuracy: 0.6824 - val_loss: 0.6179 - val_accuracy: 0.6742\n",
            "Epoch 38/40\n",
            "30/30 [==============================] - 2s 52ms/step - loss: 0.6117 - accuracy: 0.6843 - val_loss: 0.6162 - val_accuracy: 0.6739\n",
            "Epoch 39/40\n",
            "30/30 [==============================] - 2s 52ms/step - loss: 0.6097 - accuracy: 0.6839 - val_loss: 0.6147 - val_accuracy: 0.6770\n",
            "Epoch 40/40\n",
            "30/30 [==============================] - 2s 52ms/step - loss: 0.6082 - accuracy: 0.6862 - val_loss: 0.6129 - val_accuracy: 0.6782\n",
            "782/782 [==============================] - 44s 57ms/step - loss: 0.5339 - accuracy: 0.7433\n",
            "[0.533915638923645, 0.7433199882507324]\n"
          ]
        }
      ],
      "source": [
        "# Train and test the model\n",
        "model3.compile(loss='binary_crossentropy', optimizer='adam', metrics=['accuracy'])\n",
        "history3 = model3.fit(partial_X_train,\n",
        "                    partial_y_train,\n",
        "                    epochs=40,\n",
        "                    batch_size=512,\n",
        "                    validation_data=(X_val, y_val),\n",
        "                    verbose=1)\n",
        "result3 = model.evaluate(X_test_enc, y_test)\n",
        "print(result3)"
      ]
    },
    {
      "cell_type": "code",
      "execution_count": null,
      "metadata": {
        "colab": {
          "base_uri": "https://localhost:8080/",
          "height": 403
        },
        "id": "jbada_dQ9wQu",
        "outputId": "d99090ab-48d1-4b98-e844-56e56711c2b0"
      },
      "outputs": [
        {
          "data": {
            "image/png": "[encoded data removed]",
            "text/plain": [
              "<Figure size 720x360 with 2 Axes>"
            ]
          },
          "metadata": {
            "needs_background": "light"
          },
          "output_type": "display_data"
        },
        {
          "data": {
            "text/plain": [
              "<Figure size 432x288 with 0 Axes>"
            ]
          },
          "metadata": {},
          "output_type": "display_data"
        }
      ],
      "source": [
        "plot_history(history3.history, path=\"model_3.png\")"
      ]
    },
    {
      "cell_type": "markdown",
      "metadata": {
        "id": "cAdOh2IHnKuT"
      },
      "source": [
        "Experiments here show that fine-tuning the pre-trained embeddings would obtain better accuracy.\n",
        "\n",
        "Note that although fine-tuning the pre-trained embeddings is better here, we do not fine-tune it in other models. You could conduct extra experiments to compare the results."
      ]
    },
    {
      "cell_type": "markdown",
      "metadata": {
        "id": "xZ1KWFKvcagS"
      },
      "source": [
        "##  Model 3-2: LSTM with pre-trained word embeddings"
      ]
    },
    {
      "cell_type": "markdown",
      "metadata": {
        "id": "S1lKisy3kb60"
      },
      "source": [
        "Now, we replace its embeddings with the GloVe pre-trained embeddings."
      ]
    },
    {
      "cell_type": "code",
      "execution_count": null,
      "metadata": {
        "colab": {
          "base_uri": "https://localhost:8080/"
        },
        "id": "SKXXPO9BEoI_",
        "outputId": "2c1e0300-fb64-4ca9-8a57-5beba4a07ae4"
      },
      "outputs": [
        {
          "name": "stdout",
          "output_type": "stream",
          "text": [
            "Model: \"model_3\"\n",
            "_________________________________________________________________\n",
            " Layer (type)                Output Shape              Param #   \n",
            "=================================================================\n",
            " input_layer (InputLayer)    [(None, 256)]             0         \n",
            "                                                                 \n",
            " GloVe_Embeddings (Embedding  (None, 256, 300)         120000300 \n",
            " )                                                               \n",
            "                                                                 \n",
            " lstm (LSTM)                 (None, 100)               160400    \n",
            "                                                                 \n",
            " dense_6 (Dense)             (None, 1)                 101       \n",
            "                                                                 \n",
            "=================================================================\n",
            "Total params: 120,160,801\n",
            "Trainable params: 160,501\n",
            "Non-trainable params: 120,000,300\n",
            "_________________________________________________________________\n"
          ]
        }
      ],
      "source": [
        "from keras.layers import LSTM\n",
        "embedding = embeddingLayer(input)\n",
        "lstm = LSTM(units=100, return_sequences=False, name='lstm')(embedding)\n",
        "output = Dense(1, activation='sigmoid')(lstm)\n",
        "model3 = Model(inputs=input, outputs=output)\n",
        "model3.summary()"
      ]
    },
    {
      "cell_type": "code",
      "execution_count": null,
      "metadata": {
        "colab": {
          "base_uri": "https://localhost:8080/"
        },
        "id": "EqyL_rhaUElx",
        "outputId": "deb44f23-b520-4cd4-e9fb-e28f85d3b1fa"
      },
      "outputs": [
        {
          "name": "stdout",
          "output_type": "stream",
          "text": [
            "Epoch 1/40\n",
            "30/30 [==============================] - 63s 2s/step - loss: 0.6894 - accuracy: 0.5231 - val_loss: 0.6840 - val_accuracy: 0.5285\n",
            "Epoch 2/40\n",
            "30/30 [==============================] - 56s 2s/step - loss: 0.6744 - accuracy: 0.5613 - val_loss: 0.6755 - val_accuracy: 0.5584\n",
            "Epoch 3/40\n",
            "30/30 [==============================] - 57s 2s/step - loss: 0.6496 - accuracy: 0.6261 - val_loss: 0.7082 - val_accuracy: 0.6078\n",
            "Epoch 4/40\n",
            "30/30 [==============================] - 56s 2s/step - loss: 0.6608 - accuracy: 0.5931 - val_loss: 0.6524 - val_accuracy: 0.6206\n",
            "Epoch 5/40\n",
            "30/30 [==============================] - 56s 2s/step - loss: 0.6406 - accuracy: 0.6273 - val_loss: 0.6625 - val_accuracy: 0.6116\n",
            "Epoch 6/40\n",
            "30/30 [==============================] - 57s 2s/step - loss: 0.6257 - accuracy: 0.6547 - val_loss: 0.6454 - val_accuracy: 0.6848\n",
            "Epoch 7/40\n",
            "30/30 [==============================] - 56s 2s/step - loss: 0.5853 - accuracy: 0.7076 - val_loss: 0.5799 - val_accuracy: 0.7163\n",
            "Epoch 8/40\n",
            "30/30 [==============================] - 56s 2s/step - loss: 0.5908 - accuracy: 0.7041 - val_loss: 0.6257 - val_accuracy: 0.6568\n",
            "Epoch 9/40\n",
            "30/30 [==============================] - 56s 2s/step - loss: 0.5657 - accuracy: 0.7259 - val_loss: 0.5763 - val_accuracy: 0.7086\n",
            "Epoch 10/40\n",
            "30/30 [==============================] - 56s 2s/step - loss: 0.5526 - accuracy: 0.7333 - val_loss: 0.5975 - val_accuracy: 0.7166\n",
            "Epoch 11/40\n",
            "30/30 [==============================] - 56s 2s/step - loss: 0.5794 - accuracy: 0.7073 - val_loss: 0.5963 - val_accuracy: 0.7010\n",
            "Epoch 12/40\n",
            "30/30 [==============================] - 56s 2s/step - loss: 0.5720 - accuracy: 0.7171 - val_loss: 0.6274 - val_accuracy: 0.6873\n",
            "Epoch 13/40\n",
            "30/30 [==============================] - 56s 2s/step - loss: 0.5672 - accuracy: 0.7275 - val_loss: 0.5852 - val_accuracy: 0.7084\n",
            "Epoch 14/40\n",
            "30/30 [==============================] - 55s 2s/step - loss: 0.5711 - accuracy: 0.7259 - val_loss: 0.6209 - val_accuracy: 0.6626\n",
            "Epoch 15/40\n",
            "30/30 [==============================] - 55s 2s/step - loss: 0.6050 - accuracy: 0.6717 - val_loss: 0.6922 - val_accuracy: 0.5276\n",
            "Epoch 16/40\n",
            "30/30 [==============================] - 54s 2s/step - loss: 0.6522 - accuracy: 0.5753 - val_loss: 0.6737 - val_accuracy: 0.5415\n",
            "Epoch 17/40\n",
            "30/30 [==============================] - 56s 2s/step - loss: 0.6396 - accuracy: 0.5896 - val_loss: 0.6711 - val_accuracy: 0.5508\n",
            "Epoch 18/40\n",
            "30/30 [==============================] - 57s 2s/step - loss: 0.6204 - accuracy: 0.6223 - val_loss: 0.6659 - val_accuracy: 0.6149\n",
            "Epoch 19/40\n",
            "30/30 [==============================] - 57s 2s/step - loss: 0.6242 - accuracy: 0.6173 - val_loss: 0.6943 - val_accuracy: 0.5372\n",
            "Epoch 20/40\n",
            "30/30 [==============================] - 56s 2s/step - loss: 0.6443 - accuracy: 0.5795 - val_loss: 0.6724 - val_accuracy: 0.5437\n",
            "Epoch 21/40\n",
            "30/30 [==============================] - 57s 2s/step - loss: 0.6183 - accuracy: 0.6171 - val_loss: 0.6450 - val_accuracy: 0.6453\n",
            "Epoch 22/40\n",
            "30/30 [==============================] - 57s 2s/step - loss: 0.6273 - accuracy: 0.6522 - val_loss: 0.6451 - val_accuracy: 0.6446\n",
            "Epoch 23/40\n",
            "30/30 [==============================] - 57s 2s/step - loss: 0.6557 - accuracy: 0.5927 - val_loss: 0.6800 - val_accuracy: 0.5318\n",
            "Epoch 24/40\n",
            "30/30 [==============================] - 58s 2s/step - loss: 0.6453 - accuracy: 0.5668 - val_loss: 0.6731 - val_accuracy: 0.5373\n",
            "Epoch 25/40\n",
            "30/30 [==============================] - 57s 2s/step - loss: 0.6350 - accuracy: 0.5811 - val_loss: 0.6721 - val_accuracy: 0.5415\n",
            "Epoch 26/40\n",
            "30/30 [==============================] - 58s 2s/step - loss: 0.6270 - accuracy: 0.5961 - val_loss: 0.6713 - val_accuracy: 0.5448\n",
            "Epoch 27/40\n",
            "30/30 [==============================] - 57s 2s/step - loss: 0.6189 - accuracy: 0.6024 - val_loss: 0.6704 - val_accuracy: 0.5458\n",
            "Epoch 28/40\n",
            "30/30 [==============================] - 56s 2s/step - loss: 0.6102 - accuracy: 0.6061 - val_loss: 0.6684 - val_accuracy: 0.5537\n",
            "Epoch 29/40\n",
            "30/30 [==============================] - 56s 2s/step - loss: 0.5997 - accuracy: 0.6146 - val_loss: 0.6586 - val_accuracy: 0.5775\n",
            "Epoch 30/40\n",
            "30/30 [==============================] - 56s 2s/step - loss: 0.5853 - accuracy: 0.6688 - val_loss: 0.6452 - val_accuracy: 0.6323\n",
            "Epoch 31/40\n",
            "30/30 [==============================] - 56s 2s/step - loss: 0.5794 - accuracy: 0.6817 - val_loss: 0.7093 - val_accuracy: 0.5348\n",
            "Epoch 32/40\n",
            "30/30 [==============================] - 56s 2s/step - loss: 0.6262 - accuracy: 0.5941 - val_loss: 0.6759 - val_accuracy: 0.5354\n",
            "Epoch 33/40\n",
            "30/30 [==============================] - 56s 2s/step - loss: 0.6105 - accuracy: 0.6061 - val_loss: 0.6796 - val_accuracy: 0.5629\n",
            "Epoch 34/40\n",
            "30/30 [==============================] - 55s 2s/step - loss: 0.5903 - accuracy: 0.6616 - val_loss: 0.6600 - val_accuracy: 0.6063\n",
            "Epoch 35/40\n",
            "30/30 [==============================] - 56s 2s/step - loss: 0.5939 - accuracy: 0.6423 - val_loss: 0.6539 - val_accuracy: 0.6101\n",
            "Epoch 36/40\n",
            "30/30 [==============================] - 56s 2s/step - loss: 0.5706 - accuracy: 0.7087 - val_loss: 0.6283 - val_accuracy: 0.6754\n",
            "Epoch 37/40\n",
            "30/30 [==============================] - 57s 2s/step - loss: 0.6310 - accuracy: 0.6149 - val_loss: 0.6738 - val_accuracy: 0.5798\n",
            "Epoch 38/40\n",
            "30/30 [==============================] - 56s 2s/step - loss: 0.6110 - accuracy: 0.6081 - val_loss: 0.6750 - val_accuracy: 0.5461\n",
            "Epoch 39/40\n",
            "30/30 [==============================] - 57s 2s/step - loss: 0.6012 - accuracy: 0.6157 - val_loss: 0.6744 - val_accuracy: 0.5537\n",
            "Epoch 40/40\n",
            "30/30 [==============================] - 57s 2s/step - loss: 0.5923 - accuracy: 0.6263 - val_loss: 0.6698 - val_accuracy: 0.5786\n",
            "782/782 [==============================] - 53s 68ms/step - loss: 0.5339 - accuracy: 0.7433\n",
            "[0.533915638923645, 0.7433199882507324]\n"
          ]
        }
      ],
      "source": [
        "# Train and test the model\n",
        "\n",
        "model3.compile(loss='binary_crossentropy', optimizer='adam', metrics=['accuracy'])\n",
        "history3 = model7.fit(partial_X_train,\n",
        "                    partial_y_train,\n",
        "                    epochs=40,\n",
        "                    batch_size=512,\n",
        "                    validation_data=(X_val, y_val),\n",
        "                    verbose=1)\n",
        "result3 = model.evaluate(X_test_enc, y_test)\n",
        "print(result7)"
      ]
    },
    {
      "cell_type": "code",
      "execution_count": null,
      "metadata": {
        "colab": {
          "base_uri": "https://localhost:8080/",
          "height": 403
        },
        "id": "lKr_UFy6-Pcu",
        "outputId": "2f0659b3-0d69-4fc9-c6ae-782b59fe0806"
      },
      "outputs": [
        {
          "data": {
            "image/png": "[encoded data removed]",
            "text/plain": [
              "<Figure size 720x360 with 2 Axes>"
            ]
          },
          "metadata": {
            "needs_background": "light"
          },
          "output_type": "display_data"
        },
        {
          "data": {
            "text/plain": [
              "<Figure size 432x288 with 0 Axes>"
            ]
          },
          "metadata": {},
          "output_type": "display_data"
        }
      ],
      "source": [
        "plot_history(history3.history, path=\"model_3.png\")"
      ]
    },
    {
      "cell_type": "markdown",
      "metadata": {
        "id": "M-bZ5SCHiIMl"
      },
      "source": [
        "#  Model 4: Adding extra dense layer into Neural averaging network model"
      ]
    },
    {
      "cell_type": "markdown",
      "metadata": {
        "id": "G85QM3lSV7qp"
      },
      "source": [
        "We add extra dense layers into model 3-1 (neural network model) to evaluate extra dense layers' contribution. We start by adding one layer, then add two. All parameters are the same as model 3-1."
      ]
    },
    {
      "cell_type": "markdown",
      "metadata": {
        "id": "ExgX8bxpVgps"
      },
      "source": [
        "### Adding one extra dense layer"
      ]
    },
    {
      "cell_type": "code",
      "execution_count": null,
      "metadata": {
        "colab": {
          "base_uri": "https://localhost:8080/"
        },
        "id": "dTgD_gMzXa1z",
        "outputId": "4e19769b-7da4-4d02-a0cd-6e9e62162fe8"
      },
      "outputs": [
        {
          "name": "stdout",
          "output_type": "stream",
          "text": [
            "Model: \"model_4\"\n",
            "_________________________________________________________________\n",
            " Layer (type)                Output Shape              Param #   \n",
            "=================================================================\n",
            " input_layer (InputLayer)    [(None, 256)]             0         \n",
            "                                                                 \n",
            " GloVe_Embeddings (Embedding  (None, 256, 300)         120000300 \n",
            " )                                                               \n",
            "                                                                 \n",
            " global_average_pooling1d_3   (None, 300)              0         \n",
            " (GlobalAveragePooling1D)                                        \n",
            "                                                                 \n",
            " dense_7 (Dense)             (None, 300)               90300     \n",
            "                                                                 \n",
            " dense_8 (Dense)             (None, 100)               30100     \n",
            "                                                                 \n",
            " dense_9 (Dense)             (None, 16)                1616      \n",
            "                                                                 \n",
            " dense_10 (Dense)            (None, 1)                 17        \n",
            "                                                                 \n",
            "=================================================================\n",
            "Total params: 120,122,333\n",
            "Trainable params: 122,033\n",
            "Non-trainable params: 120,000,300\n",
            "_________________________________________________________________\n",
            "Epoch 1/40\n",
            "30/30 [==============================] - 3s 81ms/step - loss: 0.6972 - accuracy: 0.5054 - val_loss: 0.6928 - val_accuracy: 0.5053\n",
            "Epoch 2/40\n",
            "30/30 [==============================] - 3s 85ms/step - loss: 0.6924 - accuracy: 0.5155 - val_loss: 0.6923 - val_accuracy: 0.4961\n",
            "Epoch 3/40\n",
            "30/30 [==============================] - 3s 101ms/step - loss: 0.6914 - accuracy: 0.5107 - val_loss: 0.6901 - val_accuracy: 0.5795\n",
            "Epoch 4/40\n",
            "30/30 [==============================] - 2s 80ms/step - loss: 0.6887 - accuracy: 0.5625 - val_loss: 0.6895 - val_accuracy: 0.5088\n",
            "Epoch 5/40\n",
            "30/30 [==============================] - 3s 85ms/step - loss: 0.6852 - accuracy: 0.5557 - val_loss: 0.6821 - val_accuracy: 0.5805\n",
            "Epoch 6/40\n",
            "30/30 [==============================] - 3s 85ms/step - loss: 0.6803 - accuracy: 0.5698 - val_loss: 0.6759 - val_accuracy: 0.5924\n",
            "Epoch 7/40\n",
            "30/30 [==============================] - 2s 76ms/step - loss: 0.6714 - accuracy: 0.5951 - val_loss: 0.6684 - val_accuracy: 0.5947\n",
            "Epoch 8/40\n",
            "30/30 [==============================] - 2s 76ms/step - loss: 0.6628 - accuracy: 0.6064 - val_loss: 0.6617 - val_accuracy: 0.6085\n",
            "Epoch 9/40\n",
            "30/30 [==============================] - 2s 76ms/step - loss: 0.6531 - accuracy: 0.6241 - val_loss: 0.6498 - val_accuracy: 0.6261\n",
            "Epoch 10/40\n",
            "30/30 [==============================] - 2s 76ms/step - loss: 0.6416 - accuracy: 0.6397 - val_loss: 0.6363 - val_accuracy: 0.6482\n",
            "Epoch 11/40\n",
            "30/30 [==============================] - 2s 76ms/step - loss: 0.6264 - accuracy: 0.6612 - val_loss: 0.6250 - val_accuracy: 0.6584\n",
            "Epoch 12/40\n",
            "30/30 [==============================] - 2s 76ms/step - loss: 0.6123 - accuracy: 0.6751 - val_loss: 0.6107 - val_accuracy: 0.6744\n",
            "Epoch 13/40\n",
            "30/30 [==============================] - 2s 77ms/step - loss: 0.6028 - accuracy: 0.6805 - val_loss: 0.6039 - val_accuracy: 0.6761\n",
            "Epoch 14/40\n",
            "30/30 [==============================] - 2s 76ms/step - loss: 0.5922 - accuracy: 0.6882 - val_loss: 0.5980 - val_accuracy: 0.6846\n",
            "Epoch 15/40\n",
            "30/30 [==============================] - 2s 84ms/step - loss: 0.5924 - accuracy: 0.6847 - val_loss: 0.5916 - val_accuracy: 0.6912\n",
            "Epoch 16/40\n",
            "30/30 [==============================] - 2s 84ms/step - loss: 0.5808 - accuracy: 0.7021 - val_loss: 0.5983 - val_accuracy: 0.6787\n",
            "Epoch 17/40\n",
            "30/30 [==============================] - 2s 83ms/step - loss: 0.5802 - accuracy: 0.7007 - val_loss: 0.5893 - val_accuracy: 0.6876\n",
            "Epoch 18/40\n",
            "30/30 [==============================] - 2s 82ms/step - loss: 0.5758 - accuracy: 0.7023 - val_loss: 0.5828 - val_accuracy: 0.6970\n",
            "Epoch 19/40\n",
            "30/30 [==============================] - 3s 100ms/step - loss: 0.5709 - accuracy: 0.7077 - val_loss: 0.5786 - val_accuracy: 0.7011\n",
            "Epoch 20/40\n",
            "30/30 [==============================] - 2s 77ms/step - loss: 0.5662 - accuracy: 0.7137 - val_loss: 0.5765 - val_accuracy: 0.7032\n",
            "Epoch 21/40\n",
            "30/30 [==============================] - 2s 76ms/step - loss: 0.5692 - accuracy: 0.7068 - val_loss: 0.5748 - val_accuracy: 0.7034\n",
            "Epoch 22/40\n",
            "30/30 [==============================] - 2s 76ms/step - loss: 0.5608 - accuracy: 0.7179 - val_loss: 0.5911 - val_accuracy: 0.6846\n",
            "Epoch 23/40\n",
            "30/30 [==============================] - 2s 76ms/step - loss: 0.5654 - accuracy: 0.7121 - val_loss: 0.5799 - val_accuracy: 0.6998\n",
            "Epoch 24/40\n",
            "30/30 [==============================] - 2s 76ms/step - loss: 0.5590 - accuracy: 0.7191 - val_loss: 0.5677 - val_accuracy: 0.7096\n",
            "Epoch 25/40\n",
            "30/30 [==============================] - 2s 76ms/step - loss: 0.5548 - accuracy: 0.7217 - val_loss: 0.5857 - val_accuracy: 0.6884\n",
            "Epoch 26/40\n",
            "30/30 [==============================] - 2s 75ms/step - loss: 0.5569 - accuracy: 0.7173 - val_loss: 0.5670 - val_accuracy: 0.7132\n",
            "Epoch 27/40\n",
            "30/30 [==============================] - 2s 76ms/step - loss: 0.5540 - accuracy: 0.7242 - val_loss: 0.5688 - val_accuracy: 0.7058\n",
            "Epoch 28/40\n",
            "30/30 [==============================] - 2s 76ms/step - loss: 0.5529 - accuracy: 0.7227 - val_loss: 0.5612 - val_accuracy: 0.7155\n",
            "Epoch 29/40\n",
            "30/30 [==============================] - 2s 76ms/step - loss: 0.5548 - accuracy: 0.7190 - val_loss: 0.5671 - val_accuracy: 0.7085\n",
            "Epoch 30/40\n",
            "30/30 [==============================] - 2s 76ms/step - loss: 0.5516 - accuracy: 0.7248 - val_loss: 0.5760 - val_accuracy: 0.7054\n",
            "Epoch 31/40\n",
            "30/30 [==============================] - 2s 76ms/step - loss: 0.5575 - accuracy: 0.7178 - val_loss: 0.5621 - val_accuracy: 0.7125\n",
            "Epoch 32/40\n",
            "30/30 [==============================] - 2s 76ms/step - loss: 0.5444 - accuracy: 0.7291 - val_loss: 0.5601 - val_accuracy: 0.7169\n",
            "Epoch 33/40\n",
            "30/30 [==============================] - 2s 75ms/step - loss: 0.5462 - accuracy: 0.7292 - val_loss: 0.5615 - val_accuracy: 0.7204\n",
            "Epoch 34/40\n",
            "30/30 [==============================] - 2s 76ms/step - loss: 0.5426 - accuracy: 0.7299 - val_loss: 0.5649 - val_accuracy: 0.7080\n",
            "Epoch 35/40\n",
            "30/30 [==============================] - 2s 75ms/step - loss: 0.5446 - accuracy: 0.7291 - val_loss: 0.5574 - val_accuracy: 0.7216\n",
            "Epoch 36/40\n",
            "30/30 [==============================] - 2s 76ms/step - loss: 0.5448 - accuracy: 0.7277 - val_loss: 0.5528 - val_accuracy: 0.7229\n",
            "Epoch 37/40\n",
            "30/30 [==============================] - 2s 76ms/step - loss: 0.5392 - accuracy: 0.7339 - val_loss: 0.5517 - val_accuracy: 0.7233\n",
            "Epoch 38/40\n",
            "30/30 [==============================] - 2s 77ms/step - loss: 0.5402 - accuracy: 0.7314 - val_loss: 0.5510 - val_accuracy: 0.7225\n",
            "Epoch 39/40\n",
            "30/30 [==============================] - 2s 76ms/step - loss: 0.5399 - accuracy: 0.7319 - val_loss: 0.5515 - val_accuracy: 0.7242\n",
            "Epoch 40/40\n",
            "30/30 [==============================] - 2s 76ms/step - loss: 0.5395 - accuracy: 0.7309 - val_loss: 0.5504 - val_accuracy: 0.7262\n",
            "782/782 [==============================] - 3s 4ms/step - loss: 0.5522 - accuracy: 0.7180\n",
            "[0.5522022843360901, 0.7179999947547913]\n"
          ]
        }
      ],
      "source": [
        "# Inspect model performance with 1 hidden layer, pre-trained embeddings\n",
        "# your code goes here\n",
        "embedding = embeddingLayer(input)\n",
        "global_avgerage_pooling1d_mas = GlobalAveragePooling1D()(embedding)\n",
        "hidden_layer_1 = Dense(300, activation='sigmoid')(global_avgerage_pooling1d_mas)\n",
        "hidden_layer_2 = Dense(100, activation='sigmoid')(hidden_layer_1)\n",
        "hidden_layer_3 = Dense(16, activation='sigmoid')(hidden_layer_2) \n",
        "output = Dense(1, activation='sigmoid')(hidden_layer_3)\n",
        "model4 = Model(inputs=input, outputs=output)\n",
        "model4.summary()\n",
        "model4.compile(loss='binary_crossentropy', optimizer='adam', metrics=['accuracy'])\n",
        "histroy4 = model4.fit(partial_X_train,\n",
        "                    partial_y_train,\n",
        "                    epochs=40,\n",
        "                    batch_size=512,\n",
        "                    validation_data=(X_val, y_val),\n",
        "                    verbose=1)\n",
        "result4 = model4.evaluate(X_test_enc, y_test)\n",
        "print(result8)"
      ]
    },
    {
      "cell_type": "code",
      "execution_count": null,
      "metadata": {
        "colab": {
          "base_uri": "https://localhost:8080/",
          "height": 385
        },
        "id": "PpaeumP0-Y4G",
        "outputId": "606a8ca8-f155-4ec3-ac9b-0ced806dfceb"
      },
      "outputs": [
        {
          "data": {
            "image/png": "[encoded data removed]",
            "text/plain": [
              "<Figure size 720x360 with 2 Axes>"
            ]
          },
          "metadata": {
            "needs_background": "light"
          },
          "output_type": "display_data"
        }
      ],
      "source": [
        "plot_history(histroy4.history, path=\"model_4.png\")"
      ]
    },
    {
      "cell_type": "markdown",
      "metadata": {
        "id": "K0npTvFuVt5R"
      },
      "source": [
        "### Adding two extra dense layers"
      ]
    },
    {
      "cell_type": "code",
      "execution_count": null,
      "metadata": {
        "colab": {
          "base_uri": "https://localhost:8080/"
        },
        "id": "PowyhyRqcdDA",
        "outputId": "df8796d9-16e4-435a-b52a-91935c8bce6d"
      },
      "outputs": [
        {
          "name": "stdout",
          "output_type": "stream",
          "text": [
            "Model: \"model_5\"\n",
            "_________________________________________________________________\n",
            " Layer (type)                Output Shape              Param #   \n",
            "=================================================================\n",
            " input_layer (InputLayer)    [(None, 256)]             0         \n",
            "                                                                 \n",
            " GloVe_Embeddings (Embedding  (None, 256, 300)         120000300 \n",
            " )                                                               \n",
            "                                                                 \n",
            " global_average_pooling1d_4   (None, 300)              0         \n",
            " (GlobalAveragePooling1D)                                        \n",
            "                                                                 \n",
            " dense_12 (Dense)            (None, 300)               90300     \n",
            "                                                                 \n",
            " dense_13 (Dense)            (None, 100)               30100     \n",
            "                                                                 \n",
            " dense_14 (Dense)            (None, 16)                1616      \n",
            "                                                                 \n",
            " dense_15 (Dense)            (None, 1)                 17        \n",
            "                                                                 \n",
            "=================================================================\n",
            "Total params: 120,122,333\n",
            "Trainable params: 122,033\n",
            "Non-trainable params: 120,000,300\n",
            "_________________________________________________________________\n",
            "Epoch 1/40\n",
            "30/30 [==============================] - 3s 87ms/step - loss: 0.6972 - accuracy: 0.5031 - val_loss: 0.6939 - val_accuracy: 0.4947\n",
            "Epoch 2/40\n",
            "30/30 [==============================] - 2s 77ms/step - loss: 0.6929 - accuracy: 0.5161 - val_loss: 0.6928 - val_accuracy: 0.4949\n",
            "Epoch 3/40\n",
            "30/30 [==============================] - 2s 76ms/step - loss: 0.6922 - accuracy: 0.5250 - val_loss: 0.6917 - val_accuracy: 0.5249\n",
            "Epoch 4/40\n",
            "30/30 [==============================] - 2s 79ms/step - loss: 0.6913 - accuracy: 0.5324 - val_loss: 0.6907 - val_accuracy: 0.5140\n",
            "Epoch 5/40\n",
            "30/30 [==============================] - 2s 79ms/step - loss: 0.6887 - accuracy: 0.5616 - val_loss: 0.6894 - val_accuracy: 0.5075\n",
            "Epoch 6/40\n",
            "30/30 [==============================] - 2s 78ms/step - loss: 0.6841 - accuracy: 0.5578 - val_loss: 0.6800 - val_accuracy: 0.5788\n",
            "Epoch 7/40\n",
            "30/30 [==============================] - 3s 98ms/step - loss: 0.6749 - accuracy: 0.5898 - val_loss: 0.6720 - val_accuracy: 0.5856\n",
            "Epoch 8/40\n",
            "30/30 [==============================] - 2s 77ms/step - loss: 0.6702 - accuracy: 0.5901 - val_loss: 0.6712 - val_accuracy: 0.5913\n",
            "Epoch 9/40\n",
            "30/30 [==============================] - 2s 77ms/step - loss: 0.6604 - accuracy: 0.6082 - val_loss: 0.6573 - val_accuracy: 0.6105\n",
            "Epoch 10/40\n",
            "30/30 [==============================] - 2s 77ms/step - loss: 0.6508 - accuracy: 0.6266 - val_loss: 0.6475 - val_accuracy: 0.6271\n",
            "Epoch 11/40\n",
            "30/30 [==============================] - 2s 76ms/step - loss: 0.6409 - accuracy: 0.6392 - val_loss: 0.6467 - val_accuracy: 0.6255\n",
            "Epoch 12/40\n",
            "30/30 [==============================] - 2s 77ms/step - loss: 0.6261 - accuracy: 0.6607 - val_loss: 0.6226 - val_accuracy: 0.6623\n",
            "Epoch 13/40\n",
            "30/30 [==============================] - 2s 76ms/step - loss: 0.6134 - accuracy: 0.6715 - val_loss: 0.6124 - val_accuracy: 0.6712\n",
            "Epoch 14/40\n",
            "30/30 [==============================] - 2s 77ms/step - loss: 0.6005 - accuracy: 0.6869 - val_loss: 0.6084 - val_accuracy: 0.6683\n",
            "Epoch 15/40\n",
            "30/30 [==============================] - 2s 78ms/step - loss: 0.5922 - accuracy: 0.6932 - val_loss: 0.5976 - val_accuracy: 0.6838\n",
            "Epoch 16/40\n",
            "30/30 [==============================] - 2s 77ms/step - loss: 0.5856 - accuracy: 0.6962 - val_loss: 0.6008 - val_accuracy: 0.6796\n",
            "Epoch 17/40\n",
            "30/30 [==============================] - 2s 77ms/step - loss: 0.5919 - accuracy: 0.6874 - val_loss: 0.5875 - val_accuracy: 0.6944\n",
            "Epoch 18/40\n",
            "30/30 [==============================] - 2s 77ms/step - loss: 0.5857 - accuracy: 0.6919 - val_loss: 0.6080 - val_accuracy: 0.6687\n",
            "Epoch 19/40\n",
            "30/30 [==============================] - 2s 78ms/step - loss: 0.5811 - accuracy: 0.6991 - val_loss: 0.5854 - val_accuracy: 0.6959\n",
            "Epoch 20/40\n",
            "30/30 [==============================] - 2s 77ms/step - loss: 0.5749 - accuracy: 0.7041 - val_loss: 0.5803 - val_accuracy: 0.7022\n",
            "Epoch 21/40\n",
            "30/30 [==============================] - 2s 76ms/step - loss: 0.5681 - accuracy: 0.7119 - val_loss: 0.5781 - val_accuracy: 0.7014\n",
            "Epoch 22/40\n",
            "30/30 [==============================] - 2s 77ms/step - loss: 0.5680 - accuracy: 0.7121 - val_loss: 0.5810 - val_accuracy: 0.7000\n",
            "Epoch 23/40\n",
            "30/30 [==============================] - 2s 77ms/step - loss: 0.5631 - accuracy: 0.7146 - val_loss: 0.5750 - val_accuracy: 0.7077\n",
            "Epoch 24/40\n",
            "30/30 [==============================] - 2s 77ms/step - loss: 0.5615 - accuracy: 0.7169 - val_loss: 0.5722 - val_accuracy: 0.7067\n",
            "Epoch 25/40\n",
            "30/30 [==============================] - 2s 77ms/step - loss: 0.5613 - accuracy: 0.7189 - val_loss: 0.5731 - val_accuracy: 0.7078\n",
            "Epoch 26/40\n",
            "30/30 [==============================] - 2s 76ms/step - loss: 0.5584 - accuracy: 0.7180 - val_loss: 0.5686 - val_accuracy: 0.7079\n",
            "Epoch 27/40\n",
            "30/30 [==============================] - 2s 78ms/step - loss: 0.5552 - accuracy: 0.7207 - val_loss: 0.5659 - val_accuracy: 0.7123\n",
            "Epoch 28/40\n",
            "30/30 [==============================] - 2s 76ms/step - loss: 0.5589 - accuracy: 0.7165 - val_loss: 0.5748 - val_accuracy: 0.7080\n",
            "Epoch 29/40\n",
            "30/30 [==============================] - 2s 76ms/step - loss: 0.5520 - accuracy: 0.7227 - val_loss: 0.5651 - val_accuracy: 0.7152\n",
            "Epoch 30/40\n",
            "30/30 [==============================] - 2s 77ms/step - loss: 0.5506 - accuracy: 0.7247 - val_loss: 0.5670 - val_accuracy: 0.7087\n",
            "Epoch 31/40\n",
            "30/30 [==============================] - 2s 77ms/step - loss: 0.5485 - accuracy: 0.7261 - val_loss: 0.5613 - val_accuracy: 0.7138\n",
            "Epoch 32/40\n",
            "30/30 [==============================] - 2s 76ms/step - loss: 0.5511 - accuracy: 0.7205 - val_loss: 0.5704 - val_accuracy: 0.7033\n",
            "Epoch 33/40\n",
            "30/30 [==============================] - 2s 77ms/step - loss: 0.5492 - accuracy: 0.7254 - val_loss: 0.5584 - val_accuracy: 0.7163\n",
            "Epoch 34/40\n",
            "30/30 [==============================] - 2s 76ms/step - loss: 0.5455 - accuracy: 0.7295 - val_loss: 0.5586 - val_accuracy: 0.7207\n",
            "Epoch 35/40\n",
            "30/30 [==============================] - 2s 77ms/step - loss: 0.5456 - accuracy: 0.7271 - val_loss: 0.5776 - val_accuracy: 0.6960\n",
            "Epoch 36/40\n",
            "30/30 [==============================] - 2s 77ms/step - loss: 0.5437 - accuracy: 0.7291 - val_loss: 0.5586 - val_accuracy: 0.7164\n",
            "Epoch 37/40\n",
            "30/30 [==============================] - 2s 77ms/step - loss: 0.5411 - accuracy: 0.7332 - val_loss: 0.5582 - val_accuracy: 0.7149\n",
            "Epoch 38/40\n",
            "30/30 [==============================] - 2s 77ms/step - loss: 0.5428 - accuracy: 0.7317 - val_loss: 0.5530 - val_accuracy: 0.7208\n",
            "Epoch 39/40\n",
            "30/30 [==============================] - 2s 78ms/step - loss: 0.5383 - accuracy: 0.7317 - val_loss: 0.5515 - val_accuracy: 0.7224\n",
            "Epoch 40/40\n",
            "30/30 [==============================] - 2s 80ms/step - loss: 0.5388 - accuracy: 0.7323 - val_loss: 0.5631 - val_accuracy: 0.7205\n",
            "782/782 [==============================] - 3s 4ms/step - loss: 0.5639 - accuracy: 0.7096\n",
            "[0.5638819336891174, 0.7095999717712402]\n"
          ]
        }
      ],
      "source": [
        "# Inspect model performance with 1 hidden layer, pre-trained embeddings\n",
        "# your code goes here\n",
        "embedding = embeddingLayer(input)\n",
        "global_avgerage_pooling1d_mas = GlobalAveragePooling1D()(embedding)\n",
        "hidden_layer_1 = Dense(300, activation='sigmoid')(global_avgerage_pooling1d_mas)\n",
        "hidden_layer_1_extra = Dense(300, activation='sigmoid')(global_avgerage_pooling1d_mas)\n",
        "hidden_layer_2 = Dense(100, activation='sigmoid')(hidden_layer_1_extra)\n",
        "hidden_layer_3 = Dense(16, activation='sigmoid')(hidden_layer_2) \n",
        "output = Dense(1, activation='sigmoid')(hidden_layer_3)\n",
        "model5 = Model(inputs=input, outputs=output)\n",
        "model5.summary()\n",
        "model5.compile(loss='binary_crossentropy', optimizer='adam', metrics=['accuracy'])\n",
        "histroy5 = model5.fit(partial_X_train,\n",
        "                    partial_y_train,\n",
        "                    epochs=40,\n",
        "                    batch_size=512,\n",
        "                    validation_data=(X_val, y_val),\n",
        "                    verbose=1)\n",
        "result5 = model5.evaluate(X_test_enc, y_test)\n",
        "print(result9)"
      ]
    },
    {
      "cell_type": "code",
      "execution_count": null,
      "metadata": {
        "colab": {
          "base_uri": "https://localhost:8080/",
          "height": 385
        },
        "id": "1Dlpndae-1Vx",
        "outputId": "8ce1be69-4ab3-465e-8196-bfa09c23183d"
      },
      "outputs": [
        {
          "data": {
            "image/png": "[encoded data removed]",
            "text/plain": [
              "<Figure size 720x360 with 2 Axes>"
            ]
          },
          "metadata": {
            "needs_background": "light"
          },
          "output_type": "display_data"
        }
      ],
      "source": [
        "plot_history(histroy9.history, path=\"model_5.png\")\n",
        "plt.show()"
      ]
    },
    {
      "cell_type": "markdown",
      "metadata": {
        "id": "XisS32PaTATf"
      },
      "source": [
        "These two experiments show that adding extra dense layers can slightly improve accuracy over model 3-1.\n",
        "\n",
        "---\n",
        "\n"
      ]
    },
    {
      "cell_type": "markdown",
      "metadata": {
        "id": "CrfC9Mu-RHID"
      },
      "source": [
        "#  Model 5: CNN for Text Classification"
      ]
    },
    {
      "cell_type": "markdown",
      "metadata": {
        "id": "EPaFmFk1BMFf"
      },
      "source": [
        "In this section, we build a Convolutional Neural Network (CNN) for text classification. We start by using one CNN layer and then adding another layer. You could use embeddings from pre-trained or scratch."
      ]
    },
    {
      "cell_type": "markdown",
      "metadata": {
        "id": "zjOJrGCzwGM5"
      },
      "source": [
        "##  Model 5-1: Basic CNN model for Text Classification "
      ]
    },
    {
      "cell_type": "code",
      "execution_count": null,
      "metadata": {
        "colab": {
          "base_uri": "https://localhost:8080/"
        },
        "id": "rXBstOw0sCYF",
        "outputId": "4b5349ec-958b-4f66-d419-73f37656d410"
      },
      "outputs": [
        {
          "name": "stdout",
          "output_type": "stream",
          "text": [
            "Model: \"model_6\"\n",
            "_________________________________________________________________\n",
            " Layer (type)                Output Shape              Param #   \n",
            "=================================================================\n",
            " input_2 (InputLayer)        [(None, 256)]             0         \n",
            "                                                                 \n",
            " embedding_layer (Embedding)  (None, 256, 300)         3000000   \n",
            "                                                                 \n",
            " conv1d_1 (Conv1D)           (None, 251, 100)          180100    \n",
            "                                                                 \n",
            " global_max_pooling1d_1 (Glo  (None, 100)              0         \n",
            " balMaxPooling1D)                                                \n",
            "                                                                 \n",
            " dense_17 (Dense)            (None, 1)                 101       \n",
            "                                                                 \n",
            "=================================================================\n",
            "Total params: 3,180,201\n",
            "Trainable params: 3,180,201\n",
            "Non-trainable params: 0\n",
            "_________________________________________________________________\n"
          ]
        }
      ],
      "source": [
        "from keras.layers.convolutional import Conv1D\n",
        "from keras.layers.pooling import GlobalMaxPooling1D\n",
        "hidden_layer=16\n",
        "\n",
        "# your code goes here\n",
        "input = Input((256,), dtype='int32')\n",
        "embedding = Embedding(VOCAB_SIZE, EMBED_SIZE, name='embedding_layer',embeddings_initializer = 'glorot_uniform',input_length = 256, mask_zero = True)(input)\n",
        "cnn_1d = Conv1D(filters = 100, kernel_size = 6, activation = 'relu')(embedding)\n",
        "max_pooling = GlobalMaxPooling1D()(cnn_1d)\n",
        "output = Dense(1, activation = 'sigmoid')(max_pooling)\n",
        "model4 = Model(inputs=input, outputs\n",
        "               =output)\n",
        "model4.summary()"
      ]
    },
    {
      "cell_type": "code",
      "execution_count": null,
      "metadata": {
        "colab": {
          "base_uri": "https://localhost:8080/"
        },
        "id": "-G5MrDPJFBzK",
        "outputId": "f4d14d71-1ccd-4cff-9d6e-0de1976f3059"
      },
      "outputs": [
        {
          "name": "stdout",
          "output_type": "stream",
          "text": [
            "Epoch 1/40\n",
            "30/30 [==============================] - 63s 2s/step - loss: 0.6688 - accuracy: 0.6805 - val_loss: 0.6079 - val_accuracy: 0.7734\n",
            "Epoch 2/40\n",
            "30/30 [==============================] - 60s 2s/step - loss: 0.4837 - accuracy: 0.8235 - val_loss: 0.3763 - val_accuracy: 0.8423\n",
            "Epoch 3/40\n",
            "30/30 [==============================] - 60s 2s/step - loss: 0.2827 - accuracy: 0.8939 - val_loss: 0.3055 - val_accuracy: 0.8694\n",
            "Epoch 4/40\n",
            "30/30 [==============================] - 60s 2s/step - loss: 0.1738 - accuracy: 0.9443 - val_loss: 0.3063 - val_accuracy: 0.8738\n",
            "Epoch 5/40\n",
            "30/30 [==============================] - 60s 2s/step - loss: 0.1039 - accuracy: 0.9727 - val_loss: 0.3252 - val_accuracy: 0.8701\n",
            "Epoch 6/40\n",
            "30/30 [==============================] - 60s 2s/step - loss: 0.0582 - accuracy: 0.9892 - val_loss: 0.3517 - val_accuracy: 0.8693\n",
            "Epoch 7/40\n",
            "30/30 [==============================] - 60s 2s/step - loss: 0.0313 - accuracy: 0.9963 - val_loss: 0.3827 - val_accuracy: 0.8673\n",
            "Epoch 8/40\n",
            "30/30 [==============================] - 59s 2s/step - loss: 0.0171 - accuracy: 0.9987 - val_loss: 0.4137 - val_accuracy: 0.8651\n",
            "Epoch 9/40\n",
            "30/30 [==============================] - 59s 2s/step - loss: 0.0099 - accuracy: 0.9997 - val_loss: 0.4387 - val_accuracy: 0.8650\n",
            "Epoch 10/40\n",
            "30/30 [==============================] - 59s 2s/step - loss: 0.0064 - accuracy: 1.0000 - val_loss: 0.4618 - val_accuracy: 0.8624\n",
            "Epoch 11/40\n",
            "30/30 [==============================] - 59s 2s/step - loss: 0.0045 - accuracy: 1.0000 - val_loss: 0.4802 - val_accuracy: 0.8621\n",
            "Epoch 12/40\n",
            "30/30 [==============================] - 59s 2s/step - loss: 0.0034 - accuracy: 1.0000 - val_loss: 0.4976 - val_accuracy: 0.8613\n",
            "Epoch 13/40\n",
            "30/30 [==============================] - 59s 2s/step - loss: 0.0027 - accuracy: 1.0000 - val_loss: 0.5121 - val_accuracy: 0.8602\n",
            "Epoch 14/40\n",
            "30/30 [==============================] - 59s 2s/step - loss: 0.0022 - accuracy: 1.0000 - val_loss: 0.5251 - val_accuracy: 0.8594\n",
            "Epoch 15/40\n",
            "30/30 [==============================] - 59s 2s/step - loss: 0.0018 - accuracy: 1.0000 - val_loss: 0.5373 - val_accuracy: 0.8591\n",
            "Epoch 16/40\n",
            "30/30 [==============================] - 59s 2s/step - loss: 0.0015 - accuracy: 1.0000 - val_loss: 0.5484 - val_accuracy: 0.8585\n",
            "Epoch 17/40\n",
            "30/30 [==============================] - 59s 2s/step - loss: 0.0013 - accuracy: 1.0000 - val_loss: 0.5588 - val_accuracy: 0.8585\n",
            "Epoch 18/40\n",
            "30/30 [==============================] - 59s 2s/step - loss: 0.0011 - accuracy: 1.0000 - val_loss: 0.5680 - val_accuracy: 0.8586\n",
            "Epoch 19/40\n",
            "30/30 [==============================] - 59s 2s/step - loss: 9.7546e-04 - accuracy: 1.0000 - val_loss: 0.5769 - val_accuracy: 0.8580\n",
            "Epoch 20/40\n",
            "30/30 [==============================] - 59s 2s/step - loss: 8.5922e-04 - accuracy: 1.0000 - val_loss: 0.5856 - val_accuracy: 0.8581\n",
            "Epoch 21/40\n",
            "30/30 [==============================] - 59s 2s/step - loss: 7.6381e-04 - accuracy: 1.0000 - val_loss: 0.5938 - val_accuracy: 0.8579\n",
            "Epoch 22/40\n",
            "30/30 [==============================] - 59s 2s/step - loss: 6.8269e-04 - accuracy: 1.0000 - val_loss: 0.6012 - val_accuracy: 0.8575\n",
            "Epoch 23/40\n",
            "30/30 [==============================] - 59s 2s/step - loss: 6.1549e-04 - accuracy: 1.0000 - val_loss: 0.6084 - val_accuracy: 0.8566\n",
            "Epoch 24/40\n",
            "30/30 [==============================] - 60s 2s/step - loss: 5.5722e-04 - accuracy: 1.0000 - val_loss: 0.6155 - val_accuracy: 0.8570\n",
            "Epoch 25/40\n",
            "30/30 [==============================] - 60s 2s/step - loss: 5.0751e-04 - accuracy: 1.0000 - val_loss: 0.6219 - val_accuracy: 0.8564\n",
            "Epoch 26/40\n",
            "30/30 [==============================] - 60s 2s/step - loss: 4.6379e-04 - accuracy: 1.0000 - val_loss: 0.6282 - val_accuracy: 0.8565\n",
            "Epoch 27/40\n",
            "30/30 [==============================] - 60s 2s/step - loss: 4.2508e-04 - accuracy: 1.0000 - val_loss: 0.6345 - val_accuracy: 0.8566\n",
            "Epoch 28/40\n",
            "30/30 [==============================] - 59s 2s/step - loss: 3.9124e-04 - accuracy: 1.0000 - val_loss: 0.6401 - val_accuracy: 0.8565\n",
            "Epoch 29/40\n",
            "30/30 [==============================] - 59s 2s/step - loss: 3.6123e-04 - accuracy: 1.0000 - val_loss: 0.6458 - val_accuracy: 0.8565\n",
            "Epoch 30/40\n",
            "30/30 [==============================] - 59s 2s/step - loss: 3.3409e-04 - accuracy: 1.0000 - val_loss: 0.6513 - val_accuracy: 0.8561\n",
            "Epoch 31/40\n",
            "30/30 [==============================] - 59s 2s/step - loss: 3.1017e-04 - accuracy: 1.0000 - val_loss: 0.6566 - val_accuracy: 0.8561\n",
            "Epoch 32/40\n",
            "30/30 [==============================] - 59s 2s/step - loss: 2.8877e-04 - accuracy: 1.0000 - val_loss: 0.6618 - val_accuracy: 0.8557\n",
            "Epoch 33/40\n",
            "30/30 [==============================] - 59s 2s/step - loss: 2.6944e-04 - accuracy: 1.0000 - val_loss: 0.6666 - val_accuracy: 0.8560\n",
            "Epoch 34/40\n",
            "30/30 [==============================] - 59s 2s/step - loss: 2.5206e-04 - accuracy: 1.0000 - val_loss: 0.6717 - val_accuracy: 0.8557\n",
            "Epoch 35/40\n",
            "30/30 [==============================] - 59s 2s/step - loss: 2.3619e-04 - accuracy: 1.0000 - val_loss: 0.6765 - val_accuracy: 0.8557\n",
            "Epoch 36/40\n",
            "30/30 [==============================] - 60s 2s/step - loss: 2.2167e-04 - accuracy: 1.0000 - val_loss: 0.6807 - val_accuracy: 0.8556\n",
            "Epoch 37/40\n",
            "30/30 [==============================] - 60s 2s/step - loss: 2.0856e-04 - accuracy: 1.0000 - val_loss: 0.6855 - val_accuracy: 0.8552\n",
            "Epoch 38/40\n",
            "30/30 [==============================] - 60s 2s/step - loss: 1.9636e-04 - accuracy: 1.0000 - val_loss: 0.6898 - val_accuracy: 0.8553\n",
            "Epoch 39/40\n",
            "30/30 [==============================] - 59s 2s/step - loss: 1.8546e-04 - accuracy: 1.0000 - val_loss: 0.6940 - val_accuracy: 0.8554\n",
            "Epoch 40/40\n",
            "30/30 [==============================] - 60s 2s/step - loss: 1.7504e-04 - accuracy: 1.0000 - val_loss: 0.6984 - val_accuracy: 0.8554\n",
            "782/782 [==============================] - 26s 33ms/step - loss: 0.7128 - accuracy: 0.8497\n"
          ]
        }
      ],
      "source": [
        "# Train and test the model\n",
        "model6.compile(loss='binary_crossentropy', optimizer='adam', metrics=['accuracy'])\n",
        "history6 = model6.fit(partial_X_train,\n",
        "                    partial_y_train,\n",
        "                    epochs=40,\n",
        "                    batch_size=512,\n",
        "                    validation_data=(X_val, y_val),\n",
        "                    verbose=1)\n",
        "result6 = model6.evaluate(X_test_enc, y_test)"
      ]
    },
    {
      "cell_type": "code",
      "execution_count": null,
      "metadata": {
        "colab": {
          "base_uri": "https://localhost:8080/",
          "height": 313
        },
        "id": "8nvkxunysjhr",
        "outputId": "c717a8e7-3601-47c6-e83f-33e5cd98964d"
      },
      "outputs": [
        {
          "data": {
            "image/png": "[encoded data removed]",
            "text/plain": [
              "<Figure size 432x288 with 1 Axes>"
            ]
          },
          "metadata": {
            "needs_background": "light"
          },
          "output_type": "display_data"
        },
        {
          "data": {
            "text/plain": [
              "<Figure size 432x288 with 0 Axes>"
            ]
          },
          "metadata": {},
          "output_type": "display_data"
        }
      ],
      "source": [
        "plt.plot(history6.history['loss'],'bo', label='training loss')\n",
        "plt.title('Training and Validation loss')\n",
        "plt.xlabel('Epochs')\n",
        "plt.ylabel('Loss')\n",
        "plt.legend()\n",
        "plt.show()\n"
      ]
    },
    {
      "cell_type": "markdown",
      "metadata": {
        "id": "XkQMLxw-wWG6"
      },
      "source": [
        "## Model 5-2: Adding extra convolutional layer"
      ]
    },
    {
      "cell_type": "code",
      "execution_count": null,
      "metadata": {
        "colab": {
          "base_uri": "https://localhost:8080/"
        },
        "id": "7nvF662HOoqg",
        "outputId": "40ff78b6-fe83-4b2e-a9da-ed3a2d523c9d"
      },
      "outputs": [
        {
          "name": "stdout",
          "output_type": "stream",
          "text": [
            "Model: \"model_8\"\n",
            "_________________________________________________________________\n",
            " Layer (type)                Output Shape              Param #   \n",
            "=================================================================\n",
            " input_7 (InputLayer)        [(None, 256)]             0         \n",
            "                                                                 \n",
            " embedding_layer (Embedding)  (None, 256, 300)         3000000   \n",
            "                                                                 \n",
            " conv1d_8 (Conv1D)           (None, 251, 100)          180100    \n",
            "                                                                 \n",
            " conv1d_9 (Conv1D)           (None, 246, 100)          60100     \n",
            "                                                                 \n",
            " global_max_pooling1d_4 (Glo  (None, 100)              0         \n",
            " balMaxPooling1D)                                                \n",
            "                                                                 \n",
            " dense_20 (Dense)            (None, 1)                 101       \n",
            "                                                                 \n",
            "=================================================================\n",
            "Total params: 3,240,301\n",
            "Trainable params: 3,240,301\n",
            "Non-trainable params: 0\n",
            "_________________________________________________________________\n"
          ]
        }
      ],
      "source": [
        "input = Input((256,), dtype='int32')\n",
        "embedding = Embedding(VOCAB_SIZE, EMBED_SIZE, name='embedding_layer',embeddings_initializer = 'glorot_uniform',input_length = 256, mask_zero = True)(input)\n",
        "cnn_1d_1 = Conv1D(filters = 100, kernel_size = 6, activation = 'relu')(embedding)\n",
        "cnn_1d_2 = Conv1D(filters=100, kernel_size=6, activation='relu')(cnn_1d_1)\n",
        "max_pooling = GlobalMaxPooling1D()(cnn_1d_2)\n",
        "output = Dense(1, activation = 'sigmoid')(max_pooling)\n",
        "model7 = Model(inputs=input, outputs=output)\n",
        "model7.summary()"
      ]
    },
    {
      "cell_type": "code",
      "execution_count": null,
      "metadata": {
        "colab": {
          "base_uri": "https://localhost:8080/"
        },
        "id": "hx8JLl4xPlua",
        "outputId": "22d8829a-6ea1-4941-941c-5c2bb8514b0f"
      },
      "outputs": [
        {
          "name": "stdout",
          "output_type": "stream",
          "text": [
            "Epoch 1/40\n",
            "30/30 [==============================] - 82s 3s/step - loss: 0.6627 - accuracy: 0.6091 - val_loss: 0.5013 - val_accuracy: 0.7904\n",
            "Epoch 2/40\n",
            "30/30 [==============================] - 80s 3s/step - loss: 0.3673 - accuracy: 0.8427 - val_loss: 0.3440 - val_accuracy: 0.8470\n",
            "Epoch 3/40\n",
            "30/30 [==============================] - 77s 3s/step - loss: 0.2058 - accuracy: 0.9222 - val_loss: 0.3649 - val_accuracy: 0.8518\n",
            "Epoch 4/40\n",
            "30/30 [==============================] - 77s 3s/step - loss: 0.1126 - accuracy: 0.9633 - val_loss: 0.4324 - val_accuracy: 0.8481\n",
            "Epoch 5/40\n",
            "30/30 [==============================] - 77s 3s/step - loss: 0.0607 - accuracy: 0.9812 - val_loss: 0.5060 - val_accuracy: 0.8452\n",
            "Epoch 6/40\n",
            "30/30 [==============================] - 80s 3s/step - loss: 0.0288 - accuracy: 0.9930 - val_loss: 0.5818 - val_accuracy: 0.8406\n",
            "Epoch 7/40\n",
            "30/30 [==============================] - 79s 3s/step - loss: 0.0127 - accuracy: 0.9977 - val_loss: 0.6584 - val_accuracy: 0.8416\n",
            "Epoch 8/40\n",
            "30/30 [==============================] - 77s 3s/step - loss: 0.0052 - accuracy: 0.9995 - val_loss: 0.7103 - val_accuracy: 0.8408\n",
            "Epoch 9/40\n",
            "30/30 [==============================] - 78s 3s/step - loss: 0.0020 - accuracy: 0.9998 - val_loss: 0.7555 - val_accuracy: 0.8406\n",
            "Epoch 10/40\n",
            "30/30 [==============================] - 77s 3s/step - loss: 0.0011 - accuracy: 1.0000 - val_loss: 0.7831 - val_accuracy: 0.8417\n",
            "Epoch 11/40\n",
            "30/30 [==============================] - 77s 3s/step - loss: 6.5906e-04 - accuracy: 1.0000 - val_loss: 0.8052 - val_accuracy: 0.8414\n",
            "Epoch 12/40\n",
            "30/30 [==============================] - 78s 3s/step - loss: 4.8946e-04 - accuracy: 1.0000 - val_loss: 0.8232 - val_accuracy: 0.8422\n",
            "Epoch 13/40\n",
            "30/30 [==============================] - 79s 3s/step - loss: 3.9566e-04 - accuracy: 1.0000 - val_loss: 0.8402 - val_accuracy: 0.8416\n",
            "Epoch 14/40\n",
            "30/30 [==============================] - 79s 3s/step - loss: 3.3024e-04 - accuracy: 1.0000 - val_loss: 0.8547 - val_accuracy: 0.8420\n",
            "Epoch 15/40\n",
            "30/30 [==============================] - 78s 3s/step - loss: 2.8120e-04 - accuracy: 1.0000 - val_loss: 0.8684 - val_accuracy: 0.8416\n",
            "Epoch 16/40\n",
            "30/30 [==============================] - 79s 3s/step - loss: 2.4376e-04 - accuracy: 1.0000 - val_loss: 0.8808 - val_accuracy: 0.8418\n",
            "Epoch 17/40\n",
            "30/30 [==============================] - 79s 3s/step - loss: 2.1340e-04 - accuracy: 1.0000 - val_loss: 0.8924 - val_accuracy: 0.8419\n",
            "Epoch 18/40\n",
            "30/30 [==============================] - 77s 3s/step - loss: 1.8875e-04 - accuracy: 1.0000 - val_loss: 0.9038 - val_accuracy: 0.8418\n",
            "Epoch 19/40\n",
            "30/30 [==============================] - 77s 3s/step - loss: 1.6814e-04 - accuracy: 1.0000 - val_loss: 0.9144 - val_accuracy: 0.8416\n",
            "Epoch 20/40\n",
            "30/30 [==============================] - 78s 3s/step - loss: 1.5103e-04 - accuracy: 1.0000 - val_loss: 0.9244 - val_accuracy: 0.8418\n",
            "Epoch 21/40\n",
            "30/30 [==============================] - 77s 3s/step - loss: 1.3629e-04 - accuracy: 1.0000 - val_loss: 0.9333 - val_accuracy: 0.8418\n",
            "Epoch 22/40\n",
            "30/30 [==============================] - 78s 3s/step - loss: 1.2390e-04 - accuracy: 1.0000 - val_loss: 0.9427 - val_accuracy: 0.8415\n",
            "Epoch 23/40\n",
            "30/30 [==============================] - 78s 3s/step - loss: 1.1323e-04 - accuracy: 1.0000 - val_loss: 0.9510 - val_accuracy: 0.8417\n",
            "Epoch 24/40\n",
            "30/30 [==============================] - 78s 3s/step - loss: 1.0360e-04 - accuracy: 1.0000 - val_loss: 0.9592 - val_accuracy: 0.8420\n",
            "Epoch 25/40\n",
            "30/30 [==============================] - 78s 3s/step - loss: 9.4920e-05 - accuracy: 1.0000 - val_loss: 0.9669 - val_accuracy: 0.8419\n",
            "Epoch 26/40\n",
            "30/30 [==============================] - 78s 3s/step - loss: 8.7596e-05 - accuracy: 1.0000 - val_loss: 0.9748 - val_accuracy: 0.8418\n",
            "Epoch 27/40\n",
            "30/30 [==============================] - 77s 3s/step - loss: 8.1069e-05 - accuracy: 1.0000 - val_loss: 0.9819 - val_accuracy: 0.8415\n",
            "Epoch 28/40\n",
            "30/30 [==============================] - 78s 3s/step - loss: 7.5134e-05 - accuracy: 1.0000 - val_loss: 0.9892 - val_accuracy: 0.8419\n",
            "Epoch 29/40\n",
            "30/30 [==============================] - 78s 3s/step - loss: 7.0030e-05 - accuracy: 1.0000 - val_loss: 0.9958 - val_accuracy: 0.8424\n",
            "Epoch 30/40\n",
            "30/30 [==============================] - 78s 3s/step - loss: 6.5306e-05 - accuracy: 1.0000 - val_loss: 1.0024 - val_accuracy: 0.8423\n",
            "Epoch 31/40\n",
            "30/30 [==============================] - 78s 3s/step - loss: 6.0956e-05 - accuracy: 1.0000 - val_loss: 1.0092 - val_accuracy: 0.8418\n",
            "Epoch 32/40\n",
            "30/30 [==============================] - 78s 3s/step - loss: 5.7150e-05 - accuracy: 1.0000 - val_loss: 1.0151 - val_accuracy: 0.8422\n",
            "Epoch 33/40\n",
            "30/30 [==============================] - 78s 3s/step - loss: 5.3505e-05 - accuracy: 1.0000 - val_loss: 1.0213 - val_accuracy: 0.8415\n",
            "Epoch 34/40\n",
            "30/30 [==============================] - 78s 3s/step - loss: 5.0452e-05 - accuracy: 1.0000 - val_loss: 1.0276 - val_accuracy: 0.8416\n",
            "Epoch 35/40\n",
            "30/30 [==============================] - 77s 3s/step - loss: 4.7435e-05 - accuracy: 1.0000 - val_loss: 1.0330 - val_accuracy: 0.8417\n",
            "Epoch 36/40\n",
            "30/30 [==============================] - 78s 3s/step - loss: 4.4766e-05 - accuracy: 1.0000 - val_loss: 1.0386 - val_accuracy: 0.8420\n",
            "Epoch 37/40\n",
            "30/30 [==============================] - 78s 3s/step - loss: 4.2280e-05 - accuracy: 1.0000 - val_loss: 1.0440 - val_accuracy: 0.8416\n",
            "Epoch 38/40\n",
            "30/30 [==============================] - 78s 3s/step - loss: 4.0023e-05 - accuracy: 1.0000 - val_loss: 1.0492 - val_accuracy: 0.8416\n",
            "Epoch 39/40\n",
            "30/30 [==============================] - 78s 3s/step - loss: 3.7921e-05 - accuracy: 1.0000 - val_loss: 1.0546 - val_accuracy: 0.8416\n",
            "Epoch 40/40\n",
            "30/30 [==============================] - 77s 3s/step - loss: 3.5950e-05 - accuracy: 1.0000 - val_loss: 1.0596 - val_accuracy: 0.8413\n",
            "782/782 [==============================] - 33s 42ms/step - loss: 1.1537 - accuracy: 0.8284\n"
          ]
        }
      ],
      "source": [
        "# Train and test the model\n",
        "model7.compile(loss='binary_crossentropy', optimizer='adam', metrics=['accuracy'])\n",
        "history7 = model7.fit(partial_X_train,\n",
        "                    partial_y_train,\n",
        "                    epochs=40,\n",
        "                    batch_size=512,\n",
        "                    validation_data=(X_val, y_val),\n",
        "                    verbose=1)\n",
        "result7 = model7.evaluate(X_test_enc, y_test)\n"
      ]
    },
    {
      "cell_type": "code",
      "execution_count": null,
      "metadata": {
        "colab": {
          "base_uri": "https://localhost:8080/",
          "height": 313
        },
        "id": "T2-fqNHiRRIe",
        "outputId": "ab866ef7-750b-4985-a09d-1594f6b2100e"
      },
      "outputs": [
        {
          "data": {
            "image/png": "[encoded data removed]",
            "text/plain": [
              "<Figure size 432x288 with 1 Axes>"
            ]
          },
          "metadata": {
            "needs_background": "light"
          },
          "output_type": "display_data"
        },
        {
          "data": {
            "text/plain": [
              "<Figure size 432x288 with 0 Axes>"
            ]
          },
          "metadata": {},
          "output_type": "display_data"
        }
      ],
      "source": [
        "plt.plot(history7.history['loss'],'bo', label='training loss')\n",
        "plt.title('Training and Validation loss')\n",
        "plt.xlabel('Epochs')\n",
        "plt.ylabel('Loss')\n",
        "plt.legend()\n",
        "plt.show()"
      ]
    },
    {
      "cell_type": "markdown",
      "metadata": {
        "id": "Kx--Ytk3ZbLo"
      },
      "source": [
        "Although adding layer here reduces the training loss, the evaluation accuracy is worse than the model without the extra convolutional layer.\n",
        "\n",
        "Adding more layers can help you to extract more features. But we can do that up to a certain extent. After some point, instead of extracting features, we tend to overfit the data. Overfitting can lead to errors in on form or another, such as false positives. It is not easy to choose the number of units in a hidden layer or the number of hidden layers in a neural network. For many applications, one hidden layer is enough. As a general rule, the number of units in that hidden layer is between the number of inputs and the number of outputs.\n",
        " The best way to decide on the number of units and hidden layers is to try various parameters. Train several neural networks with different numbers of hidden layers and neurons, and monitor the performance of them.\n",
        "\n",
        "\n",
        "\n"
      ]
    },
    {
      "cell_type": "markdown",
      "metadata": {
        "id": "gn2GSV4ioyO2"
      },
      "source": [
        "\n",
        "\n",
        "---\n",
        "\n"
      ]
    }
  ],
  "metadata": {
    "colab": {
      "collapsed_sections": [
        "7GdY2-64YG1B"
      ],
      "machine_shape": "hm",
      "name": "Text classification.ipynb",
      "provenance": []
    },
    "kernelspec": {
      "display_name": "Python 3 (ipykernel)",
      "language": "python",
      "name": "python3"
    },
    "language_info": {
      "codemirror_mode": {
        "name": "ipython",
        "version": 3
      },
      "file_extension": ".py",
      "mimetype": "text/x-python",
      "name": "python",
      "nbconvert_exporter": "python",
      "pygments_lexer": "ipython3",
      "version": "3.9.7"
    },
    "accelerator": "GPU"
  },
  "nbformat": 4,
  "nbformat_minor": 0
}